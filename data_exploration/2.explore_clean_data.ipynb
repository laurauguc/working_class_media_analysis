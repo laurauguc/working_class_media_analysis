{
 "cells": [
  {
   "cell_type": "markdown",
   "id": "7cd02d43",
   "metadata": {},
   "source": [
    "Additional data profiling and checks on clean data.\n",
    "\n",
    "Goals: better understanding of the data + ensuring no new issues were accidentally introduced.\n",
    "\n"
   ]
  },
  {
   "cell_type": "markdown",
   "id": "94236fd7",
   "metadata": {},
   "source": [
    "Include:\n",
    "\n",
    "* bar chart of article length\n",
    "\n",
    "* Guo's section analysis (but with cleaned data), without prediction component.\n",
    "\n",
    "* Time charts\n",
    "\n",
    "    * overall\n",
    "    \n",
    "    * by publisher\n",
    "    \n",
    "    * by section, tracking \"unclassified\" ones for reference.\n",
    "    \n",
    "\n",
    "\n",
    "\n",
    "Cleaning tips:\n",
    "\n",
    "* Table of contents with links\n",
    "\n",
    "* SHOW_EXAMPLE_ARTICLES to toggle amount of printed info.\n",
    "\n",
    "* Descriptions providing context\n",
    "\n",
    "* Externalize long functions to a utils.py file, especially if used by other notebooks or scripts."
   ]
  },
  {
   "cell_type": "code",
   "execution_count": null,
   "id": "c77cdb42",
   "metadata": {},
   "outputs": [],
   "source": []
  }
 ],
 "metadata": {
  "kernelspec": {
   "display_name": "Python 3.12",
   "language": "python",
   "name": "python3.12"
  },
  "language_info": {
   "codemirror_mode": {
    "name": "ipython",
    "version": 3
   },
   "file_extension": ".py",
   "mimetype": "text/x-python",
   "name": "python",
   "nbconvert_exporter": "python",
   "pygments_lexer": "ipython3",
   "version": "3.12.3"
  }
 },
 "nbformat": 4,
 "nbformat_minor": 5
}
