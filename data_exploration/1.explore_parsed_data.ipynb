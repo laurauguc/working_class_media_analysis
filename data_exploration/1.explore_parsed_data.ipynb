{
 "cells": [
  {
   "cell_type": "markdown",
   "id": "8ea07bac",
   "metadata": {},
   "source": [
    "# Exploratory Analysis of parsed data"
   ]
  },
  {
   "cell_type": "code",
   "execution_count": 1,
   "id": "deda7e24",
   "metadata": {},
   "outputs": [],
   "source": [
    "import os\n",
    "import pandas as pd\n",
    "\n",
    "df_articles = pd.read_pickle(\"../data/processed/parsed_articles.pkl\")"
   ]
  },
  {
   "cell_type": "markdown",
   "id": "3a9134ed",
   "metadata": {},
   "source": [
    "<a id=\"table-of-contents\"></a>\n",
    "\n",
    "## Table of Contents\n",
    "\n",
    "Overview of parsed data checks to guide data cleaning steps.\n",
    "\n",
    "1. [High-Level Checks](#data_checks)  \n",
    "   * Record counts (compared to expectations)\n",
    "   * Check dates\n",
    "   * Time distribution plot  \n",
    "\n",
    "2. [Repeated Headlines](#headlines)  \n",
    "   * Most frequent headlines  \n",
    "   * Recurring topics  \n",
    "   * Quasi-duplicate articles (same headline, similar body)  \n",
    "\n",
    "3. [Sections Analysis](#sections)  \n",
    "\n",
    "4. [Potential Issues](#issues)  \n",
    "   * Working-class keywords review  \n",
    "   * Data profiling summary\n"
   ]
  },
  {
   "cell_type": "markdown",
   "id": "e85cce88",
   "metadata": {},
   "source": [
    "<a id=\"data_checks\"></a>\n",
    "## 1. High Level Checks \n",
    "\n",
    "\n",
    "[⬆ Return to Top](#table-of-contents)"
   ]
  },
  {
   "cell_type": "markdown",
   "id": "516d8479",
   "metadata": {},
   "source": [
    "### Record Counts"
   ]
  },
  {
   "cell_type": "code",
   "execution_count": 3,
   "id": "c7011f25",
   "metadata": {},
   "outputs": [],
   "source": [
    "expected_n_articles = 500 * 86 + 305 + 361\n",
    "parsed_articles = df_articles.shape[0]"
   ]
  },
  {
   "cell_type": "code",
   "execution_count": 4,
   "id": "48dadeee",
   "metadata": {},
   "outputs": [
    {
     "name": "stdout",
     "output_type": "stream",
     "text": [
      "✅ Total number of articles parsed: 43666 — matches expectations.\n"
     ]
    }
   ],
   "source": [
    "try:\n",
    "    assert expected_n_articles == parsed_articles, (\n",
    "        f\"Mismatch: expected {expected_n_articles}, got {parsed_articles}\"\n",
    "    )\n",
    "    print(f\"✅ Total number of articles parsed: {parsed_articles} — matches expectations.\")\n",
    "except AssertionError as e:\n",
    "    print(f\"❌ There's a mismatch. {e}\")\n"
   ]
  },
  {
   "cell_type": "code",
   "execution_count": 6,
   "id": "c46e5081",
   "metadata": {},
   "outputs": [],
   "source": [
    "expected_n_source_files = 88\n",
    "parsed_sources_files = len(set(df_articles[\"source_file\"]))"
   ]
  },
  {
   "cell_type": "code",
   "execution_count": 7,
   "id": "132487a3",
   "metadata": {},
   "outputs": [
    {
     "name": "stdout",
     "output_type": "stream",
     "text": [
      "✅ Total number of source files parsed: 88 — matches expectations.\n"
     ]
    }
   ],
   "source": [
    "try:\n",
    "    assert expected_n_source_files == parsed_sources_files, (\n",
    "        f\"Mismatch: expected {expected_n_source_files}, got {parsed_sources_files}\"\n",
    "    )\n",
    "    print(f\"✅ Total number of source files parsed: {parsed_sources_files} — matches expectations.\")\n",
    "except AssertionError as e:\n",
    "    print(f\"❌ There's a mismatch. {e}\")\n"
   ]
  },
  {
   "cell_type": "markdown",
   "id": "489105c5",
   "metadata": {},
   "source": [
    "### Check dates"
   ]
  },
  {
   "cell_type": "code",
   "execution_count": 13,
   "id": "9bf7bd0a",
   "metadata": {},
   "outputs": [
    {
     "name": "stdout",
     "output_type": "stream",
     "text": [
      "✅ All articles have a date — expectations met.\n"
     ]
    }
   ],
   "source": [
    "# Check that no date values are missing\n",
    "missing_dates_count = df_articles['date'].isna().sum()\n",
    "try:\n",
    "    assert missing_dates_count == 0, (\n",
    "        f\"Found {missing_dates_count} articles with missing dates:\\n\"\n",
    "        f\"{df_articles.loc[df_articles['date'].isna()]}\"\n",
    "    )\n",
    "    print(\"✅ All articles have a date — expectations met.\")\n",
    "except AssertionError as e:\n",
    "    print(f\"❌ Date check failed. {e}\")\n"
   ]
  },
  {
   "cell_type": "code",
   "execution_count": 10,
   "id": "98dcbe5f",
   "metadata": {},
   "outputs": [
    {
     "name": "stdout",
     "output_type": "stream",
     "text": [
      "✅ All articles have valid dates — expectations met.\n"
     ]
    }
   ],
   "source": [
    "# Validate that all 'date' entries can be parsed into valid dates\n",
    "try:\n",
    "    parsed_dates = pd.to_datetime(df_articles[\"date\"], errors=\"coerce\").dt.date\n",
    "    invalid_dates = df_articles.loc[parsed_dates.isna()]\n",
    "    invalid_count = invalid_dates.shape[0]\n",
    "\n",
    "    assert invalid_count == 0, (\n",
    "        f\"Found {invalid_count} articles with invalid or missing dates:\\n\"\n",
    "        f\"{invalid_dates}\"\n",
    "    )\n",
    "\n",
    "    print(\"✅ All articles have valid dates — expectations met.\")\n",
    "except AssertionError as e:\n",
    "    print(f\"❌ Date validation failed. {e}\")\n"
   ]
  },
  {
   "cell_type": "code",
   "execution_count": 29,
   "id": "af21d143",
   "metadata": {},
   "outputs": [
    {
     "name": "stdout",
     "output_type": "stream",
     "text": [
      "Number of articles with date at the end:  461\n"
     ]
    }
   ],
   "source": [
    "print(\"Number of articles with date at the end: \", \n",
    "int(df_articles.apply(lambda x: x['correction_appended'] or x['load_date_at_end'], axis = 1).sum()))"
   ]
  },
  {
   "cell_type": "markdown",
   "id": "b12bb2a7",
   "metadata": {},
   "source": [
    "### Time Distribution Plot"
   ]
  },
  {
   "cell_type": "code",
   "execution_count": 11,
   "id": "782ab649",
   "metadata": {},
   "outputs": [
    {
     "data": {
      "image/png": "[encoded data removed]",
      "text/plain": [
       "<Figure size 1200x500 with 1 Axes>"
      ]
     },
     "metadata": {},
     "output_type": "display_data"
    }
   ],
   "source": [
    "import matplotlib.pyplot as plt\n",
    "from collections import Counter\n",
    "\n",
    "# Group by year\n",
    "years = [d.year for d in parsed_dates]\n",
    "year_counts = Counter(years)\n",
    "\n",
    "# Sort by year\n",
    "sorted_years = sorted(year_counts)\n",
    "frequencies = [year_counts[year] for year in sorted_years]\n",
    "\n",
    "# Plot\n",
    "plt.figure(figsize=(12, 5))\n",
    "plt.bar(sorted_years, frequencies, color='skyblue')\n",
    "plt.xlabel('Year')\n",
    "plt.ylabel('Frequency')\n",
    "plt.title('Number of Dates per Year')\n",
    "plt.xticks(sorted_years, rotation=45)\n",
    "plt.grid(axis='y', linestyle='--', alpha=0.7)\n",
    "plt.tight_layout()\n",
    "plt.show()"
   ]
  },
  {
   "cell_type": "markdown",
   "id": "0a1ddb18",
   "metadata": {},
   "source": [
    "<a id=\"headlines\"></a>\n",
    "## 2. Reapted Headlines\n",
    "\n",
    "\n",
    "[⬆ Return to Top](#table-of-contents)"
   ]
  },
  {
   "cell_type": "markdown",
   "id": "5dff950d",
   "metadata": {},
   "source": [
    "__To do:__ continue cleaning notebook.\n",
    "\n",
    "__Question for Elena:__ does she approve the following organizational layout work to document decisions?\n",
    "\n",
    "* Data processing folder: code + README.md file documentating decisions and reasoning.\n",
    "\n",
    "* Data exploration folder: exploratory code that systematically analyzed data to arrive at decisions made above."
   ]
  },
  {
   "cell_type": "markdown",
   "id": "15741be3",
   "metadata": {},
   "source": [
    "### Most frequent headlines"
   ]
  },
  {
   "cell_type": "code",
   "execution_count": 15,
   "id": "515347c4",
   "metadata": {},
   "outputs": [
    {
     "data": {
      "text/plain": [
       "{'No Headline In Original': np.int64(368), 'Movie guide': np.int64(101)}"
      ]
     },
     "execution_count": 15,
     "metadata": {},
     "output_type": "execute_result"
    }
   ],
   "source": [
    "highest_frequency_titles = {key:value for key, value in dict(df_articles['title'].value_counts()).items() if value > 100}\n",
    "highest_frequency_titles"
   ]
  },
  {
   "cell_type": "code",
   "execution_count": 16,
   "id": "ad757a6b",
   "metadata": {},
   "outputs": [
    {
     "data": {
      "text/html": [
       "<div>\n",
       "<style scoped>\n",
       "    .dataframe tbody tr th:only-of-type {\n",
       "        vertical-align: middle;\n",
       "    }\n",
       "\n",
       "    .dataframe tbody tr th {\n",
       "        vertical-align: top;\n",
       "    }\n",
       "\n",
       "    .dataframe thead th {\n",
       "        text-align: right;\n",
       "    }\n",
       "</style>\n",
       "<table border=\"1\" class=\"dataframe\">\n",
       "  <thead>\n",
       "    <tr style=\"text-align: right;\">\n",
       "      <th></th>\n",
       "      <th>title</th>\n",
       "      <th>publisher</th>\n",
       "      <th>date</th>\n",
       "      <th>section</th>\n",
       "      <th>length</th>\n",
       "      <th>body</th>\n",
       "      <th>correction_appended</th>\n",
       "      <th>load_date_at_end</th>\n",
       "      <th>source_file</th>\n",
       "    </tr>\n",
       "  </thead>\n",
       "  <tbody>\n",
       "    <tr>\n",
       "      <th>446</th>\n",
       "      <td>No Headline In Original</td>\n",
       "      <td>The New York Times</td>\n",
       "      <td>2024-09-01</td>\n",
       "      <td>Section MB; Column 0; Metropolitan Desk; Pg. 3...</td>\n",
       "      <td>533 words</td>\n",
       "      <td>\\n\\nIn the Schools: Dress Codes, Self-Expressi...</td>\n",
       "      <td>False</td>\n",
       "      <td>False</td>\n",
       "      <td>NYT/55.DOCX</td>\n",
       "    </tr>\n",
       "    <tr>\n",
       "      <th>457</th>\n",
       "      <td>No Headline In Original</td>\n",
       "      <td>The New York Times</td>\n",
       "      <td>2022-01-30</td>\n",
       "      <td>Section MB; Column 0; Metropolitan Desk; Pg. 3...</td>\n",
       "      <td>774 words</td>\n",
       "      <td>\\n\\nHow Fire Defined the Bronx, and Us\\nReader...</td>\n",
       "      <td>False</td>\n",
       "      <td>False</td>\n",
       "      <td>NYT/55.DOCX</td>\n",
       "    </tr>\n",
       "  </tbody>\n",
       "</table>\n",
       "</div>"
      ],
      "text/plain": [
       "                       title           publisher        date  \\\n",
       "446  No Headline In Original  The New York Times  2024-09-01   \n",
       "457  No Headline In Original  The New York Times  2022-01-30   \n",
       "\n",
       "                                               section     length  \\\n",
       "446  Section MB; Column 0; Metropolitan Desk; Pg. 3...  533 words   \n",
       "457  Section MB; Column 0; Metropolitan Desk; Pg. 3...  774 words   \n",
       "\n",
       "                                                  body  correction_appended  \\\n",
       "446  \\n\\nIn the Schools: Dress Codes, Self-Expressi...                False   \n",
       "457  \\n\\nHow Fire Defined the Bronx, and Us\\nReader...                False   \n",
       "\n",
       "     load_date_at_end  source_file  \n",
       "446             False  NYT/55.DOCX  \n",
       "457             False  NYT/55.DOCX  "
      ]
     },
     "execution_count": 16,
     "metadata": {},
     "output_type": "execute_result"
    }
   ],
   "source": [
    "df_no_headline = df_articles.loc[df_articles[\"title\"] == \"No Headline In Original\"]\n",
    "df_no_headline.head(2)"
   ]
  },
  {
   "cell_type": "code",
   "execution_count": 17,
   "id": "c6d81267",
   "metadata": {},
   "outputs": [
    {
     "name": "stdout",
     "output_type": "stream",
     "text": [
      "\n",
      "\n",
      "In the Schools: Dress Codes, Self-Expression and Inequity\n",
      "Readers responded by letter and at nytimes.com to Ginia Bellafante's Big City column on Aug. 18 about student dress codes and whether school uniforms should be required. Comments were edited.   I grew up in a working-class family, only ever had thrift store clothes, and was a social pariah because of that. Now my kid attends a New York City charter school where uniforms are required. I love it. The uniform completely removes any sense of ever having the ''wrong'' clothes, which I can attest from personal experience means that a major distraction is just completely removed from the day's equation. There's still some room for personal expression. There are dress, skirt, pants and shorts options, and two possible colors of shirts.\n",
      "  Emily St. John Mandel, New York\n",
      "  Every new school year, we grapple with how to make sure that our students are mindful, respectful and safe while maintaining independence and self-expression. This year brings with it not only new fashion ins and outs, but a whole new language for all the various gender, class and ethnic identifications so that the children do not feel judged, slighted or, worst of all, shamed. It also brings adult debate as to what the protocols for mindful behavior in the schools, on the playground and within society should be to ensure civility, respect and kindness. While reading this article, I was further reminded of another piece on the subject: ''What honor is due to parents; what garments or shoes are to be worn; the mode of dressing the hair; deportment and manners in general?'' These words were written in ''The Republic'' by Plato in 380 B.C. We were also given by a quotation from Ecclesiastes: ''The thing that hath been, it is that which shall be; and that which is done: and there is no new thing under the sun.'' Congratulations for continuing this age-old conversation.\n",
      "  Gailanne Grosso, New York\n",
      "  As an American expat and secondary school teacher who's lived and worked in Australia for some 40 years, I must say I have come to believe that mandatory uniforms are the go. Here, in Oz, near 100 percent of students in both public and private schools wear uniforms, with some range of choice within the codes. It is a cultural given here, unquestioned, and it works! It seems to work in Philly? Ha! I recall teaching in a school in Daytona Beach, Fla., where one of the dress-code rules was ''No swimsuits!''\n",
      "  Walter Provencher, Canberra, Australia\n",
      "  After my first career, in retail, I became a high school history teacher in a very poor district. I told all my students, ''I will never be the fashion police.'' I further explained that there was no way they could shock me. When I retired, after 16 years of teaching, my A.P. World History students had the highest passing rate on the A.P. exam in the district, and well above the national average. The craziest dresser I taught was also one of the brightest people I have ever met. Perhaps brilliance and the desire to step outside the norms are both rooted in the same innate characteristics. Regardless, crazy clothes never interfered with my teaching, not once.\n",
      "  John Taylor, Rancho Palos Verdes, Calif.\n",
      "\n",
      "https://www.nytimes.com/2024/08/22/nyregion/01MetComments.html\n",
      "\n",
      "Graphic\n",
      "\n",
      " \n",
      "PHOTO: Students waiting in line to receive ID cards at Edward Murrow High School in Brooklyn. (PHOTOGRAPH BY ANNA WATTS FOR THE NEW YORK TIMES) This article appeared in print on page MB3.               \n",
      "\n",
      "Load-Date: September 1, 2024\n",
      "\n"
     ]
    }
   ],
   "source": [
    "select_index = 0 # select index to view the body of a different article\n",
    "print(df_no_headline['body'].iloc[select_index])"
   ]
  },
  {
   "cell_type": "code",
   "execution_count": 19,
   "id": "f07bae85",
   "metadata": {},
   "outputs": [
    {
     "name": "stdout",
     "output_type": "stream",
     "text": [
      "\n",
      "\n",
      "This feeling isn't envy, it's anger\n",
      "Columnist Ruben Navarette is way out of touch with the average person. His Feb. 26 column on income envy is what is wrong with the path America is heading down.\n",
      "The sentiment he feels is not envy, but anger. The average working person just wants a fair shake on a level playing field, but the deck is stacked against them.\n",
      "The wealthy and upper class buy legislation that only benefits them. How can you explain CEO pay of hundreds of millions while the working person is faced with drastic pay cuts, loss of benefits, competition from illegal aliens (undocumented to Navarette), layoffs and loss of pensions after years of service.\n",
      "Today's worker is treated as a machine and can be disposed of at a moment's notice. It does not matter if you are a truck driver or a computer programmer, your job is not safe, no matter what your education level.\n",
      "Robert Schneyr\n",
      "South Elgin\n",
      "Bush wants to repeat NAFTA mistake\n",
      "The Hershey Company is laying off 1,500 workers - a trend followed lately by many American corporations. This is disturbing because Hershey is planning on building a new plant in Mexico.\n",
      "The chief operating officer stated one of the reasons is for a\"... profitable international expansion.\"\n",
      "With the removal of tariffs and lifting quotas, the North American Free Trade Agreement was to result in growing trade surpluses with Mexico and job creation in America.\n",
      "Instead, today we have huge trade deficits with Mexico, and U.S. plants are moving there to get cheap labor, special investor protections and preferred access on finished products coming back to the U.S.\n",
      "As more and more U.S. corporations follow this practice, workers in the U.S. are losing their good jobs with benefits, and are only finding work in the service sector at salaries between 25 percent and 75 percent of what they were making, with few - if any - benefits.\n",
      "For the 75 percent of Americans without a college degree, median wages rose 80 percent between 1946 and 1973, and have been flat ever since.\n",
      "NAFTA is not working as originally represented and intended.\n",
      "You'd think we had learned, but now the Bush administration has reached a new agreement with another four Central American countries, known as the Central America Free Trade Agreement.\n",
      "Cutting labor costs to increase profits by shipping jobs to other countries is disastrous for the future of the working class of America.\n",
      "Our working class fought for years in the early 1900s to get out of the sweatshops and to obtain decent working hours, wages and benefits for their efforts.\n",
      "Fair trade yes, but free trade has its cost - devastation to the working class in the U.S. If this trend continues, our working class will be brought down to the standards of third-world countries.\n",
      "I am afraid Bush has been wrong at every turn - the national debt, an economy driven by debt through tax cuts, the Iraq war, NAFTA, CAFTA, and No Child Left Behind.\n",
      "Yes, the results are coming in after four years of the No Child Left Behind Act reporting the nation's urban school districts have shown little benefit from the law in spite of great expense of implementation.\n",
      "Not only has the Bush administration been a failure at every turn, they have left us with most of the world not trusting us, and the rest of the world hating us.\n",
      "His incompetence as a leader has put us in a very dangerous position both domestically and internationally. He leaves a legacy of failure.\n",
      "Leo A. Dietrich\n",
      "Lake Villa\n",
      "\n",
      "Load-Date: March 14, 2007\n",
      "\n"
     ]
    }
   ],
   "source": [
    "# to view examples from other publishers\n",
    "select_index = 0\n",
    "select_publisher = \"Chicago Daily Herald\"\n",
    "df_no_headline_select_publisher = df_no_headline.loc[df_no_headline[\"publisher\"] == \"Chicago Daily Herald\"]\n",
    "print(df_no_headline_select_publisher['body'].iloc[select_index])"
   ]
  },
  {
   "cell_type": "markdown",
   "id": "b25e72fd",
   "metadata": {},
   "source": [
    "__Observation:__ A manual review of a sample of articles titled \"No Headline In Original\" reveals that the original source data contains this exact title, confirming it is not a parsing error. In most cases, the article body consists of multiple readers’ notes to the editor, each with its own heading; however, there are exceptions to this pattern.\n",
    "\n",
    "__Decision:__ During data cleaning, separate readers’ notes to the editor from the main dataset to enable independent analysis.\n",
    "\n",
    "__Question for Elena:__ We had decided to do nothing about these articles, but incosistent with decision about keeping notes to editor seperate. Ok with this updated decision?"
   ]
  },
  {
   "cell_type": "markdown",
   "id": "3d7bcde6",
   "metadata": {},
   "source": [
    "### Recurring titles"
   ]
  },
  {
   "cell_type": "code",
   "execution_count": 33,
   "id": "791690cc",
   "metadata": {},
   "outputs": [
    {
     "data": {
      "text/plain": [
       "{'Movie guide': np.int64(101),\n",
       " 'Movie Guide': np.int64(36),\n",
       " 'New & Noteworthy Paperbacks': np.int64(36),\n",
       " 'Letters to the Editor': np.int64(34),\n",
       " 'MOVIE GUIDE': np.int64(33),\n",
       " 'Paperback Row': np.int64(30),\n",
       " 'inside track': np.int64(28),\n",
       " 'Art': np.int64(27),\n",
       " 'Readers Write': np.int64(27),\n",
       " 'Four stars: superior. Three stars: good. Two stars: average. One star: poor. D (': np.int64(25),\n",
       " 'Marco Rubio; REPUBLICAN': np.int64(24)}"
      ]
     },
     "execution_count": 33,
     "metadata": {},
     "output_type": "execute_result"
    }
   ],
   "source": [
    "# Repeated titles\n",
    "{key: value for key, value in dict(df_articles[\"title\"].value_counts()).items() if value > 20 and value < 105}"
   ]
  },
  {
   "cell_type": "code",
   "execution_count": 20,
   "id": "af7ce12a",
   "metadata": {},
   "outputs": [
    {
     "name": "stdout",
     "output_type": "stream",
     "text": [
      "\n",
      "\n",
      "     A selective listing by critics of The Times of new or noteworthy movies and film series playing this weekend in New York City. * denotes a highly recommended film or series. Ratings and running times are in parentheses. An index of reviews of films opening today appears on Page 8.\n",
      "\n",
      "Now Playing\n",
      "\n",
      "* \"AMELIE,\" starring Audrey Tautou and Mathieu Kassovitz. Directed by Jean-Pierre Jeunet (R, 120 minutes; in French, with English subtitles). Amelie (Ms. Tautou) is a waitress in Paris and tinkers with the lives of her friends. When she falls in love with Nino (Mr. Kassovitz), she can't be direct and let him know how she feels. Instead, she pulls him into an elaborate courtship dance that turns life in Paris into a game of Twister with a treasure hunt added to the mix. Nino trails after Amelie, still the mystery woman to him, as she leaves clues about herself everywhere. By the climax, the movie segues into a rumination on loss and the perils of being too playful. The film's original French title was \"Le Fabuleux Destin d'Amelie Poulain,\" and Mr. Jeunet deflates the self-mocking pomposity of the title by the last third of the movie. Yet there is no denying that \"Amelie\" is, to paraphrase its title, fabulous (Elvis Mitchell).\n",
      "\"BLACK KNIGHT,\" starring Martin Lawrence, Marsha Thomason and Tom Wilkinson.  Directed by Gil Junger. (PG-13, 97 minutes). An accidental plunge into the filthy moat of the medieval theme park where he works sends Mr. Lawrence's character Jamal back to the year 1328 where he leads a rebellion against the evil king. Jamal is appalled by 14th-century sanitation, while the residents of the castle in which he finds himself don't know what to make of his dancing style until (in the movie's sole amusing sequence) he teaches them to get down and funky. As a comic actor, Mr. Lawrence is no Eddie Murphy or Jim Carrey, and even the off-color humor feels wan and second-hand (Stephen Holden).\n",
      "\n",
      "* \"THE DEVIL'S BACKBONE,\" starring Eduardo Noriega, Marisa Paredes, Federico Luppi and Inigo Garces. Directed by Guillermo del Toro (R, 106 minutes; in Spanish, with English subtitles). This ghost story, set in an orphanage at the end of the Spanish Civil War, uses horror-film techniques to explore the nature of political tragedy. Mr. del Toro balances dread with tenderness, and refracts the terror and sadness of the time through the eyes of a young boy, who only half-understands what he is witnessing. This somber, gothic story of betrayal and revenge builds to a brutal climax, and a final shot in which terror effortlessly dissolves into heartbreak (A. O. Scott).\n",
      "\n",
      "\"DOMESTIC DISTURBANCE,\" starring John Travolta, Vince Vaughn, Teri Polo, Matt O'Leary and Steve Buscemi. Directed by Harold Becker (PG-13, 100 minutes). Mr. Travolta throws away a loose, easy-going performance in this inept angry-dad thriller. He plays a Maryland boat builder who must rescue his son from a charming businessman (Mr. Vaughn) who turns out to be -- to no one's surprise but the brain-dead local police force -- a ruthless criminal. Mr. Buscemi shows up early on to give the picture a jolt of sleazy energy, but once he is killed off, all that is left is a routine and unimaginative series of suspense-drama set pieces (Scott).\n",
      "\n",
      "\"DONNIE DARKO,\" starring Jake Gyllenhaal and Jena Malone. Written and directed by Richard Kelly (R, 118 minutes). A science-fiction time-travel satire -- in other words, a genre crunch that is too big a mouthful for the picture to contain. Mr. Kelly shows great care with the actors in his first film, a period piece -- the period is 1988 -- about a schizophrenic teenager named Donnie Darko (Mr. Gyllenhaal). He feels misplaced until he discovers his ability to travel in time; it helps him make sense of his life. Sadly, the movie has no life, despite the admirable performances. It's so busy cramming references for effect that it feels cold and overly planned (Mitchell).\n",
      "\n",
      "\"FOCUS,\" starring William H. Macy and Laura Dern. Directed by Neal Slavin (PG-13, 104 minutes). Although the screen adaptation of Arthur Miller's 1945 novel about anti-Semitism, paranoia and demagoguery in America at the end of World War II is pretty much a one-note sermon about intolerance, it still casts a creepy spell. Mr. Macy is a mild-mannered personnel director suspected of being Jewish in a Brooklyn neighborhood riled up by an anti-Semitic radio preacher, and Ms. Dern is his wife, who also doesn't fit in. The film's expressionistic film-noir ambience finds dread on every street corner (Holden).\n",
      "\n",
      "* \"FROM HELL,\" starring Johnny Depp, Heather Graham, Ian Holm and Robbie Coltrane. Directed by the Hughes brothers (R, 120 minutes). This heady snort of paranoia about the trail of terror left by Jack the Ripper is extraordinarily violent, in addition to being one of the most breathtaking leaps of directing skills seen in years. It follows the dogged investigation of Abberline (Mr. Depp) and his partner, Sergeant Godley (Mr. Coltrane), in trying to stop the bloody carnage by the East End's most famous criminal. The movie succeeds, but it does have its faults: the attempt to weld social melodrama and suspense creaks at some of the joints. But the Hughes brothers' goal here is to make an epic of savagery, and they are brilliant at ambience and details (Mitchell).\n",
      "\n",
      "\"HARRY POTTER AND THE SORCERER'S STONE,\" starring Daniel Radcliffe, Robbie Coltrane and Maggie Smith. Directed by Chris Columbus (PG, 146 minutes). This film adaptation of the J. K. Rowling novel opens with a familiar sight to Harry Potter fans: the dry-witted giant Hagrid (Mr. Coltrane) and Professor McGonagall (Ms. Smith) dropping a baby at the Doorstep of Destiny. Years later Harry (Mr. Radcliffe) winds up in Hogwarts, an English boarding school for wizards. While shopping for his magic equipment, Harry comes across the Sorcerer's Stone, a bedeviled jewel whose power affects his first year at the enchanted school. The most highly awaited movie of the year has a dreary, literal-minded competence, following the letter of the law as laid down by the book's author. The film comes across as a covers act by an extremely competent tribute band -- not the real thing but an incredible simulation -- and there's an audience for this sort of thing. But watching \"Harry Potter\" is like seeing \"Beatlemania\" staged in the Hollywood Bowl, where the cheers and screams will drown out whatever's unfolding onstage (Mitchell).\n",
      "\n",
      "* \"HEIST,\" starring Gene Hackman, Danny DeVito, Delroy Lindo and Sam Rockwell. Written and directed by David Mamet (R, 107 minutes). Mr. Mamet tries his hand at one of the oldest tricks in the book: a last-big-score caper about an aging thief (Mr. Hackman) who masterminds a complex robbery while fending off a young, cocky rival (Mr. Rockwell). Fans of Mr. Mamet's hard-boiled poetry will feast on the gamy dialogue, but the heart of the picture lies in the performances of Mr. Hackman and Mr. Lindo (as Mr. Hackman's trusted partner), who quietly turn it from a twisty crime film into an exploration of friendship, loyalty and professionalism (Scott).\n",
      "\n",
      "\"K-PAX,\" starring Kevin Spacey, Jeff Bridges and Mary McCormack. Directed by Iain Softley (PG-13, 118 minutes). Or \"One Flew Over the Cuckoo's Nest at the Speed of Light.\" Mr. Spacey plays a mental patient who is either a spiritually gifted space alien or a spiritually gifted lunatic. Though the film handles this ambiguity reasonably well, it bogs down in sentimental claptrap and seems determined to exhaust every possible cliche. Mr. Spacey and Mr. Bridges (playing a psychiatrist), whose contrasting styles of acting might have made for some interesting chemistry, plod through one dreary, predictable scene after another (Scott).\n",
      "\n",
      "\"LIFE AS A HOUSE,\" starring Kevin Kline, Kristin Scott Thomas and Hayden Christensen. Directed by Irwin Winkler (R, 110 minutes). Despite Mr. Kline's carefully understated performance in this high-minded weepie about a dying architect mending his family fences while dying of cancer, the movie sinks into pretentious kitsch after a bracing start. Mark Andrus's sappy screenplay relentlessly flogs the metaphor of house building as life, and the family strife is resolved too easily. Ms. Scott Thomas is the ex-wife the architect still loves and Mr. Christensen the rebellious teenage son who mellows into a pussycat (Holden).\n",
      "\n",
      "* \"THE MAN WHO WASN'T THERE,\" starring Billy Bob Thornton, Frances McDormand and James Gandolfini. Directed by Joel Coen; written by Joel Coen and Ethan Coen (R, 112 minutes). The Coen brothers' latest confection, a black-and-white, late-40's film noir, is at once somber and uproarious. Mr. Thornton plays Ed Crane, a barber who drifts through his life in a state of forlorn bemusement. An ill-fated attempt to blackmail his wife's lover leads to ruinous calamities. Mr. Thornton's face, as shot by the brilliant cinematographer Roger Deakins, contains depths of mystery and feeling that the Coens' sly, hectic style can only gesture toward. The supporting cast, many of whom are, like Mr. Deakins, part of the Coens' stock company, is as terrific as Mr. Thornton, who gives what may be his best performance to date (Scott).\n",
      "\n",
      "* \"MONSTERS, INC.,\" with the voices of John Goodman, Billy Crystal, Mary Gibbs and Steve Buscemi. Directed by Pete Docter, with Lee Unkrich and David Silverman (G, 88 minutes). Pixar's newest brightly colored, computer-animated feature is about Monsters, Inc., a company that sends kids screaming into their parents' bedrooms. It employs the creatures that ominously lurk inside closets and give children the frights. In Monstropolis, the freakazoid parallel dimension in which the monsters live, children's screams are used as a power source. But any artifact from the human world is a contaminant, so when a 3-year-old girl enters Monstropolis, panic erupts, and it's up to two monsters, Sulley (Mr. Goodman) and Mike (Mr. Crystal), to return her without being blamed for the mishap. There hasn't been a film in years to use creative energy as efficiently as \"Monsters, Inc.\"; this is one clean-burning engine that doesn't waste a joke or a thought (Mitchell).\n",
      "\n",
      "* \"MULHOLLAND DRIVE,\" starring Justin Theroux, Naomi Watts, Laura Harring, Ann Miller, Robert Forster and Dan Hedaya. Written and directed by David Lynch (R, 146 minutes). Mr. Lynch's epic nightmare of Hollywood, which began life as an open-ended television series (like his \"Twin Peaks\") and evolved into a movie, may be his masterpiece. A leisurely film noir that turns into a surreal montage, it is a portrait of Hollywood filtered through his personal iconography, which in many ways is more early 1960's than contemporary in mood. The story traces the loss of innocence of a dewy Hollywood hopeful (Ms. Watts) who befriends a mysterious amnesia victim (Ms. Harring) searching for her identity. Their journey figuratively plunges them through the looking glass into a phantasmagoric dream world (Holden).\n",
      "\n",
      "\"NOVOCAINE,\" starring Steve Martin, Laura Dern, Helena Bonham Carter and Elias Koteas. Written and directed by David Atkins (R, 95 minutes). What starts out as a smart, self-mocking piece of film noir quickly loses control of itself. Mr. Martin plays Frank Sangster, a dentist who is sucked into a complex conspiracy involving his ne'er-do-well brother (Mr. Koteas) and a druggy femme fatale (Ms. Bonham Carter), who shows up in Frank's office complaining of a toothache. Mr. Martin, who is not bad as a smart, aloof, Hitchcockian wrong man, is less convincing as the film veers unsteadily into James M. Cain territory (Scott).\n",
      "\n",
      "\"THE ONE,\" starring Jet Li. Directed by James Wong (PG-13, 80 minutes). Mr. Li, the Asian martial arts star, can't act, and the tightly choreographed fight sequences in \"The One\" are the only moments he exudes screen charisma. This tangled sci-fi fantasy has the actor battling with himself in dual roles as identical, alternate selves (one good, the other power mad) from alternate universes fighting for supremacy (Holden).\n",
      "\n",
      "* \"RIDING IN CARS WITH BOYS,\" starring Drew Barrymore, Steve Zahn, Brittany Murphy and James Woods. Directed by Penny Marshall (PG-13, 122 minutes). Ms. Barrymore carries this uneven but ultimately rewarding screen adaptation of Beverly Donofrio's memoir with the sheer force of her plucky charm. The comedy-drama, which covers two decades (1965 to 1985), follows the travails of a young working-class Connecticut woman with literary ambitions who at 15 is forced into a dead-end marriage by an accidental pregnancy. Mr. Zahn is wonderful as her dimwitted but devoted husband who becomes a heroin addict (Holden).\n",
      "\n",
      "\"SERENDIPITY,\" starring John Cusack, Kate Beckinsale, Jeremy Piven and Eugene Levy. Directed by Peter Chelsom (PG-13, 87 minutes). Jon and Sara (Mr. Cusack and Ms. Beckinsale) meet at Bloomingdale's while Christmas shopping and then end up on a dream date. Because they're both involved with other people, Sara has qualms about exchanging information with him. Instead she writes her phone number in a book, which she hands off to a used-book seller and makes Jon put his number on a $5 bill, which she spends. If these objects come back into their lives, she contends, then they're destined to be together. Cut to a few years later, and the two are setting off individually to find the clues that will lead them to each other. This movie is the cinematic equivalent of a plate made of spun sugar. Mr. Chelsom's touch shines with a kind of craftsmanship, but it's sticky to the touch; if you look hard enough, you can see the sugar granules gleaming just beneath the surface (Mitchell).\n",
      "\n",
      "* \"SHALLOW HAL,\" starring Gwyneth Paltrow, Jack Black and Jason Alexander (PG-13, 114 minutes). Directed by Bobby Farrelly and Peter Farrelly (PG-13, 114 minutes). The Farrellys, masters of grossout comedy, have always had a streak of tender humanism running through their movies, and in their latest it comes to the fore. Mr. Black, in the title role, undergoes a transformation at the hands of the self-help maestro Tony Robbins and perceives inner beauty as its physical counterpart. This means that Rosemary, an obese Peace Corps volunteer, takes on the appearance of Ms. Paltrow. Ms. Paltrow's performance is flawless, and the movie accomplishes the impressive feat of transforming a series of fat jokes into a warm, affirmative fable and a charming love story (Scott).\n",
      "\n",
      "\"SIDEWALKS OF NEW YORK,\" starring Edward Burns, Rosario Dawson, Dennis Farina, Heather Graham, David Krumholtz, Brittany Murphy and Stanley Tucci. Written and directed by Mr. Burns (R, 100 minutes). Surely, after everything this city has been through this fall, the time is right for a breezy, captivating New York romantic comedy. \"Sidewalks of New York\" is not an especially good movie, but it will do. Six Manhattanites converge to date, to fight and to seek love in a story that plays like Woody Allen's \"Husbands and Wives\" without the misanthropy or the intellectual pretension. This is a good thing, but Mr. Burns shows limited interest in his characters, and seems a little too comfortable with the limitations of his imagination. The movie is likable, but not especially memorable (Scott).\n",
      "\n",
      "* \"TAPE,\" starring Ethan Hawke, Robert Sean Leonard and Uma Thurman. Directed by Richard Linklater (R, 88 minutes). This small incisive film, adapted from a play by Stephen Belber, casts almost as cold an eye on male power games at a woman's expense as Neil LaBute's \"In the Company of Men.\" Ten years after graduating from high school, Vince (Mr. Hawke), a dope dealer, and Johnny (Mr. Leonard), a filmmaker, reunite with Amy (Ms. Thurman), an assistant district attorney whom they both dated and whom Vince accuses Johnny of having date-raped. The mutual mind games played in this beautifully plotted and acted film involve some nasty surprises, and what did or did not happen takes on a \"Rashomon\"-like uncertainty (Holden).\n",
      "\n",
      "\"THIRTEEN GHOSTS,\" starring Tony Shalhoub, Shannon Elizabeth, Matthew Lillard, F. Murray Abraham and Alex Roberts. Directed by Steve Beck (R, 90 minutes). A movie so monumental in its stupidity that it took two studios -- Warners and Columbia -- to wrestle this project to the big screen. This remake of the 1961 William Castle B-picture is about a glass-walled haunted house that's really a giant containment device for unruly spirits. Once these ghosts get free, no good can come of it -- for the cast or the audience. Mr. Shalhoub, Ms. Elizabeth and Mr. Roberts are the family foolish enough to move into the terror site after inheriting it from an evil uncle (Mr. Abraham, who lays on more ham than you'd find in the entire Blimpie's chain). Mr. Lillard, playing a psychic ghost hunter, comes through with an extracharged performance; he starts falling apart in his first scene (Mitchell).\n",
      "\n",
      "\"TRAINING DAY,\" starring Denzel Washington, Ethan Hawke and Scott Glenn. Directed by Antoine Fuqua (R, 120 minutes). Mr. Washington plays Detective Alonzo Harris, the Machiavellian figure in this intermittently successful police drama. Alonzo is the worst example a young officer could ever have. He is the teacher to Jake Hoyt (Mr. Hawke), who has just been assigned to undercover duties. When the picture dwells on dueling ambitions -- Jake's striving for permanent assignment to undercover work and Alonzo's constant conning of his rookie partner -- you lean in to listen. But eventually \"Training Day,\" despite Mr. Washington's virtuoso performance, becomes a glib potboiler torn from today's screaming headlines (Mitchell).\n",
      "\n",
      "* \"VA SAVOIR,\" starring Jeanne Balibar, Sergio Castellitto, Marianne Basler, Jacques Bonnaffe and Helene De Fougerolles. Directed by Jacques Rivette (PG-13, 150 minutes; in French, with English subtitles). Mr. Rivette's gracious -- and graceful -- character comedy is droll and lovable, a piece that has earned all of the wrinkles on its brow and around its mouth. What's surprising is that on close examination those crinkles turn out to be smile lines. \"Savoir\" is a luminous, humid roundelay as three men and three women tumble in and out of one another's minds, hearts and arms. Everyone is looking for something other than what he or she has. That lusty self-interest is the motor of all great farces. The film's title has been translated as \"Who Knows?\" and it is a wistful, rueful shrug: an unforgettable gesture as sexy and controlled as Tony Bennett chugging his way through \"I Wish I Were in Love Again\" (Mitchell).\n",
      "\n",
      "* \"WAKING LIFE,\" starring Wiley Wiggins. Written and directed by Richard Linklater (R, 99 minutes). Free will versus determinism, dreams versus reality are among the topics addressed by Mr. Linklater's witty, trippy voyage into the Twilight Zone in which an assortment of characters spout contradictory theories of human consciousness. The technically innovative movie finds the perfect metaphor for the philosophic paradoxes in its visual style: live action transformed into a cartoon by digital animation. The spiels are funny and humane. Mr. Wiggins is the zonked-out everyman who absorbs them on a dreamlike journey from which he finds himself unable to awaken (Holden).\n",
      "\n",
      "* \"THE WAY WE LAUGHED,\" starring Enrico Lo Verso and Francesco Guiffrida. Written and directed by Gianni Amelio (not rated, 124 minutes; in Italian, with English subtitles). The story of two Sicilian brothers who immigrate to Turin in the late 1950's frames an evocative, somewhat nostalgic portrait of Italy emerging out of postwar poverty. Giovanni (Mr. Lo Verso), an illiterate laborer who worships education, is fiercely protective of his smart but shifty younger brother Pietro (Mr. Guiffrida) whom he encourages to be a teacher. The elliptical story of one brother's rise and the other's downfall and of their passionate but troubled fraternal bond leaves many questions hanging, but it is powerfully acted and gorgeously photographed (Holden).\n",
      "\n",
      "http://www.nytimes.com\n",
      "\n",
      "Graphic\n",
      "\n",
      " \n",
      "Photos: Steve Martin plays a white-bread dentist ready for the noir life, with Laura Dern, in \"Novocaine.\" (Mark Fellman/Artisan); Ready for a criminal caper: Gene Hackman, left, and Danny DeVito in David Mamet's film \"Heist.\" (Warner Brothers) \n",
      "\n",
      "Load-Date: November 23, 2001\n",
      "\n"
     ]
    }
   ],
   "source": [
    "# select title\n",
    "select_title = \"MOVIE GUIDE\"\n",
    "select_index = 0\n",
    "print(df_articles.loc[df_articles[\"title\"] == select_title][\"body\"].iloc[select_index])"
   ]
  },
  {
   "cell_type": "markdown",
   "id": "130c32c0",
   "metadata": {},
   "source": [
    "__Observation:__ We manually reviewed a selection of articles for each frequently repeated title and found that they fell into two main groups:\n",
    "\n",
    "1. Not relevant for our analysis: These articles typically consist of recurring lists or recommendations related to movies, books, and the arts, accompanied by only brief descriptions. Given the limited depth of information, we determined they do not meet the requirements for our analysis.\n",
    "\n",
    "    __Decision__: Filter out these articles.\n",
    "\n",
    "    __Applies to__: Articles with titles \"New & Noteworthy Paperbacks\", \"Paperback Row\", \"Art\", \"Four stars: superior. Three stars: good. Two stars: average. One star: poor. D (\", \"Movie guide\", \"MOVIE GUIDE\".\n",
    "\n",
    "\n",
    "2. Readers’ notes to the editor: These articles, including Letters to the Editor and Readers Write, document conversations between readers and the publication. While not all are directly related to the working class, the presence of at least one working-class keyword in a set of reader responses qualified the entire set for inclusion.\n",
    "\n",
    "    __Decision:__ Keep these articles, but store them separately from the main dataset for independent study.\n",
    "\n",
    "    __Applies to:__ Articles titled 'Letters to the Editor' and \"Readers Write\""
   ]
  },
  {
   "cell_type": "markdown",
   "id": "1b4f46e8",
   "metadata": {},
   "source": [
    "### Quasi-Duplicates"
   ]
  },
  {
   "cell_type": "code",
   "execution_count": 15,
   "id": "0e4a2243",
   "metadata": {},
   "outputs": [
    {
     "data": {
      "text/plain": [
       "{\"LETTERS TO THE EDITOR;\\nREADERS' LETTERS, FAXES, PHONE CALLS AND E-MAILS\": np.int64(4),\n",
       " 'CONNECTICUT GUIDE': np.int64(4),\n",
       " 'Radical move: being a Democrat; Bernie SandersDEMOCRAT': np.int64(4),\n",
       " 'Film in Review': np.int64(4),\n",
       " 'REGION A BREEDING GROUND FOR NFL COACHES': np.int64(4),\n",
       " 'INSIDE': np.int64(4),\n",
       " 'HOT DISH POLITICS': np.int64(4),\n",
       " 'Did caring for sick daughter cost mother Walmart job?; Woman sues, saying family leave act was disregarded.': np.int64(4),\n",
       " \"What's on Tuesday\": np.int64(4),\n",
       " 'The Crack Up QUEEN; From Laugh-In to Grace and Frankie, Lily Tomlin never fails to make us smile.': np.int64(4)}"
      ]
     },
     "execution_count": 15,
     "metadata": {},
     "output_type": "execute_result"
    }
   ],
   "source": [
    "# Repeated topics\n",
    "repeated_articles = {key: value for key, value in dict(df_articles[\"title\"].value_counts()).items() if value > 1 and value < 5}\n",
    "\n",
    "first10pairs = {k: repeated_articles[k] for k in list(repeated_articles)[:10]}\n",
    "first10pairs\n"
   ]
  },
  {
   "cell_type": "code",
   "execution_count": 25,
   "id": "e2bd2af5",
   "metadata": {},
   "outputs": [
    {
     "data": {
      "text/html": [
       "<div>\n",
       "<style scoped>\n",
       "    .dataframe tbody tr th:only-of-type {\n",
       "        vertical-align: middle;\n",
       "    }\n",
       "\n",
       "    .dataframe tbody tr th {\n",
       "        vertical-align: top;\n",
       "    }\n",
       "\n",
       "    .dataframe thead th {\n",
       "        text-align: right;\n",
       "    }\n",
       "</style>\n",
       "<table border=\"1\" class=\"dataframe\">\n",
       "  <thead>\n",
       "    <tr style=\"text-align: right;\">\n",
       "      <th></th>\n",
       "      <th>title</th>\n",
       "      <th>publisher</th>\n",
       "      <th>date</th>\n",
       "      <th>section</th>\n",
       "      <th>length</th>\n",
       "      <th>body</th>\n",
       "      <th>correction_appended</th>\n",
       "      <th>load_date_at_end</th>\n",
       "      <th>source_file</th>\n",
       "    </tr>\n",
       "  </thead>\n",
       "  <tbody>\n",
       "    <tr>\n",
       "      <th>21</th>\n",
       "      <td>Anti-Trump crowd might need to swallow pride; ...</td>\n",
       "      <td>Dayton Daily News (Ohio)</td>\n",
       "      <td>2016-03-16</td>\n",
       "      <td>; Pg. A13</td>\n",
       "      <td>524 words</td>\n",
       "      <td>\\n\\nThe so-called Republican establishment is ...</td>\n",
       "      <td>False</td>\n",
       "      <td>False</td>\n",
       "      <td>Other publishers/Files (500) (10).DOCX</td>\n",
       "    </tr>\n",
       "    <tr>\n",
       "      <th>24</th>\n",
       "      <td>Anti-Trump crowd might need to swallow pride; ...</td>\n",
       "      <td>Dayton Daily News (Ohio)</td>\n",
       "      <td>2016-03-16</td>\n",
       "      <td>BUSINESS; Pg. A13</td>\n",
       "      <td>525 words</td>\n",
       "      <td>\\n\\nThe so-called Republican establishment is ...</td>\n",
       "      <td>False</td>\n",
       "      <td>False</td>\n",
       "      <td>Other publishers/Files (500) (10).DOCX</td>\n",
       "    </tr>\n",
       "    <tr>\n",
       "      <th>30</th>\n",
       "      <td>Anti-Trump crowd might need to swallow pride; ...</td>\n",
       "      <td>Dayton Daily News (Ohio)</td>\n",
       "      <td>2016-03-16</td>\n",
       "      <td>; Pg. A13</td>\n",
       "      <td>524 words</td>\n",
       "      <td>\\n\\nThe so-called Republican establishment is ...</td>\n",
       "      <td>False</td>\n",
       "      <td>False</td>\n",
       "      <td>Other publishers/Files (500) (10).DOCX</td>\n",
       "    </tr>\n",
       "  </tbody>\n",
       "</table>\n",
       "</div>"
      ],
      "text/plain": [
       "                                                title  \\\n",
       "21  Anti-Trump crowd might need to swallow pride; ...   \n",
       "24  Anti-Trump crowd might need to swallow pride; ...   \n",
       "30  Anti-Trump crowd might need to swallow pride; ...   \n",
       "\n",
       "                   publisher        date            section     length  \\\n",
       "21  Dayton Daily News (Ohio)  2016-03-16          ; Pg. A13  524 words   \n",
       "24  Dayton Daily News (Ohio)  2016-03-16  BUSINESS; Pg. A13  525 words   \n",
       "30  Dayton Daily News (Ohio)  2016-03-16          ; Pg. A13  524 words   \n",
       "\n",
       "                                                 body  correction_appended  \\\n",
       "21  \\n\\nThe so-called Republican establishment is ...                False   \n",
       "24  \\n\\nThe so-called Republican establishment is ...                False   \n",
       "30  \\n\\nThe so-called Republican establishment is ...                False   \n",
       "\n",
       "    load_date_at_end                             source_file  \n",
       "21             False  Other publishers/Files (500) (10).DOCX  \n",
       "24             False  Other publishers/Files (500) (10).DOCX  \n",
       "30             False  Other publishers/Files (500) (10).DOCX  "
      ]
     },
     "execution_count": 25,
     "metadata": {},
     "output_type": "execute_result"
    }
   ],
   "source": [
    "df_select_title = df_articles.loc[df_articles[\"title\"] == \"Anti-Trump crowd might need to swallow pride; FROM THE RIGHT\"]\n",
    "df_select_title"
   ]
  },
  {
   "cell_type": "code",
   "execution_count": 26,
   "id": "07d82449",
   "metadata": {},
   "outputs": [
    {
     "data": {
      "text/plain": [
       "False"
      ]
     },
     "execution_count": 26,
     "metadata": {},
     "output_type": "execute_result"
    }
   ],
   "source": [
    "# Note: Not identical bodies\n",
    "text1 = df_select_title['body'].iloc[0]\n",
    "text2 = df_select_title['body'].iloc[1]\n",
    "text1 == text2"
   ]
  },
  {
   "cell_type": "code",
   "execution_count": 29,
   "id": "b2d3b470",
   "metadata": {},
   "outputs": [],
   "source": [
    "from sklearn.feature_extraction.text import TfidfVectorizer\n",
    "from sklearn.metrics.pairwise import cosine_similarity\n",
    "\n",
    "def compute_similarity(text1: str, text2: str) -> float:\n",
    "    \"\"\"\n",
    "    Compute the similarity score between two texts using TF-IDF and cosine similarity.\n",
    "\n",
    "    Args:\n",
    "        text1 (str): The first article or document.\n",
    "        text2 (str): The second article or document.\n",
    "\n",
    "    Returns:\n",
    "        float: Similarity score between 0 and 1.\n",
    "    \"\"\"\n",
    "    vectorizer = TfidfVectorizer(stop_words='english')\n",
    "    tfidf_matrix = vectorizer.fit_transform([text1, text2])\n",
    "    similarity_matrix = cosine_similarity(tfidf_matrix[0:1], tfidf_matrix[1:2])\n",
    "    return similarity_matrix[0][0]\n"
   ]
  },
  {
   "cell_type": "code",
   "execution_count": 30,
   "id": "20bb6bec",
   "metadata": {},
   "outputs": [
    {
     "data": {
      "text/plain": [
       "0.9907584037797779"
      ]
     },
     "execution_count": 30,
     "metadata": {},
     "output_type": "execute_result"
    }
   ],
   "source": [
    "# But close to identical bodies\n",
    "float(compute_similarity(text1, text2))"
   ]
  },
  {
   "cell_type": "code",
   "execution_count": 31,
   "id": "55137054",
   "metadata": {},
   "outputs": [
    {
     "data": {
      "text/plain": [
       "2491"
      ]
     },
     "execution_count": 31,
     "metadata": {},
     "output_type": "execute_result"
    }
   ],
   "source": [
    "# sizable issue\n",
    "int(sum(repeated_articles.values()))"
   ]
  },
  {
   "cell_type": "markdown",
   "id": "c2e593b0",
   "metadata": {},
   "source": [
    "__To do:__ @Laura\n",
    "\n",
    "* How many articles with similarity score above 90% and 97%. same title.\n",
    "\n",
    "* similarity score on titles."
   ]
  },
  {
   "cell_type": "markdown",
   "id": "1cf0def9",
   "metadata": {},
   "source": [
    "<a id=\"sections\"></a>\n",
    "## 3. Sections Analysis\n",
    "\n",
    "\n",
    "[⬆ Return to Top](#table-of-contents)"
   ]
  },
  {
   "cell_type": "code",
   "execution_count": 6,
   "id": "af4f7b39",
   "metadata": {},
   "outputs": [
    {
     "data": {
      "text/plain": [
       "{'ARTS',\n",
       " 'ARTS; design',\n",
       " 'BUSINESS',\n",
       " 'Section A; Column 0; National Desk; Pg. 13',\n",
       " 'Section A; Column 0; National Desk; Pg. 16; POLITICAL MEMO',\n",
       " 'Section BR; Column 0; Book Review Desk; Pg. 11',\n",
       " 'Section M2; Column 0; T: Design Magazine; Pg. 140',\n",
       " 'US; politics',\n",
       " 'WORLD; europe',\n",
       " 'WORLD; middleeast'}"
      ]
     },
     "execution_count": 6,
     "metadata": {},
     "output_type": "execute_result"
    }
   ],
   "source": [
    "set(df_articles[\"section\"][45:55])"
   ]
  },
  {
   "cell_type": "markdown",
   "id": "9b63027e",
   "metadata": {},
   "source": [
    "__To do:__\n",
    "\n",
    "* Analyze sections @Guo."
   ]
  },
  {
   "cell_type": "markdown",
   "id": "fa5ff77a",
   "metadata": {},
   "source": [
    "<a id=\"issues\"></a>\n",
    "## 4. Potential Issues\n",
    "\n",
    "\n",
    "[⬆ Return to Top](#table-of-contents)"
   ]
  },
  {
   "cell_type": "markdown",
   "id": "059d7976",
   "metadata": {},
   "source": [
    "__Missing \"working class\" keywords__"
   ]
  },
  {
   "cell_type": "code",
   "execution_count": 7,
   "id": "7d4203d9",
   "metadata": {},
   "outputs": [],
   "source": [
    "def clean_body(text):\n",
    "    if isinstance(text, str):\n",
    "        return (text\n",
    "                .replace(\"  \", \" \")\n",
    "                .replace(\" -\", \"-\")\n",
    "                .replace(\"- \", \"-\")\n",
    "                .replace(\"-\\xad\", \"-\")\n",
    "                .replace(\"‑\", \"-\")\n",
    "                .replace(\"-/\", \"-\")\n",
    "                .replace(\"-\\n\", \"-\"))\n",
    "    return text  # Leave non-strings (e.g., NaN) unchanged\n",
    "\n",
    "df_articles['body_cleaned'] = df_articles['body'].apply(clean_body)"
   ]
  },
  {
   "cell_type": "code",
   "execution_count": 8,
   "id": "82f51b64",
   "metadata": {},
   "outputs": [
    {
     "data": {
      "text/html": [
       "<div>\n",
       "<style scoped>\n",
       "    .dataframe tbody tr th:only-of-type {\n",
       "        vertical-align: middle;\n",
       "    }\n",
       "\n",
       "    .dataframe tbody tr th {\n",
       "        vertical-align: top;\n",
       "    }\n",
       "\n",
       "    .dataframe thead th {\n",
       "        text-align: right;\n",
       "    }\n",
       "</style>\n",
       "<table border=\"1\" class=\"dataframe\">\n",
       "  <thead>\n",
       "    <tr style=\"text-align: right;\">\n",
       "      <th></th>\n",
       "      <th>title</th>\n",
       "      <th>publisher</th>\n",
       "      <th>date</th>\n",
       "      <th>section</th>\n",
       "      <th>length</th>\n",
       "      <th>body</th>\n",
       "      <th>correction_appended</th>\n",
       "      <th>load_date_at_end</th>\n",
       "      <th>source_file</th>\n",
       "      <th>body_cleaned</th>\n",
       "    </tr>\n",
       "  </thead>\n",
       "  <tbody>\n",
       "    <tr>\n",
       "      <th>423</th>\n",
       "      <td>Desperate Years: To Be Young, British and Lack...</td>\n",
       "      <td>The New York Times</td>\n",
       "      <td>2013-12-19</td>\n",
       "      <td>MOVIES</td>\n",
       "      <td>616 words</td>\n",
       "      <td>\\n\\nFor today’s socially conscious British fil...</td>\n",
       "      <td>False</td>\n",
       "      <td>False</td>\n",
       "      <td>NYT/23.DOCX</td>\n",
       "      <td>\\n\\nFor today’s socially conscious British fil...</td>\n",
       "    </tr>\n",
       "    <tr>\n",
       "      <th>466</th>\n",
       "      <td>The G.O.P. Can Avoid A Disaster</td>\n",
       "      <td>The New York Times</td>\n",
       "      <td>2018-04-05</td>\n",
       "      <td>Section A; Column 0; Editorial Desk; Pg. 27; O...</td>\n",
       "      <td>1204 words</td>\n",
       "      <td>\\n\\nWith Democrats winning in normally deep re...</td>\n",
       "      <td>False</td>\n",
       "      <td>False</td>\n",
       "      <td>NYT/23.DOCX</td>\n",
       "      <td>\\n\\nWith Democrats winning in normally deep re...</td>\n",
       "    </tr>\n",
       "    <tr>\n",
       "      <th>275</th>\n",
       "      <td>Crash lawyers like Boeing move Cook County, Il...</td>\n",
       "      <td>USA TODAY</td>\n",
       "      <td>2001-05-16</td>\n",
       "      <td>NEWS;</td>\n",
       "      <td>452 words</td>\n",
       "      <td>\\n\\nWhen Boeing Co. announced plans last week ...</td>\n",
       "      <td>False</td>\n",
       "      <td>False</td>\n",
       "      <td>Other publishers/Files (500) (17).DOCX</td>\n",
       "      <td>\\n\\nWhen Boeing Co. announced plans last week ...</td>\n",
       "    </tr>\n",
       "    <tr>\n",
       "      <th>426</th>\n",
       "      <td>THERE'S SURGING DEMAND FOR CAD TALENT</td>\n",
       "      <td>Pittsburgh Post-Gazette</td>\n",
       "      <td>2018-05-30</td>\n",
       "      <td>BUSINESS; Pg. TP-50</td>\n",
       "      <td>800 words</td>\n",
       "      <td>\\n\\nToys. Pencils. Mugs. Lug nuts. Cans for nu...</td>\n",
       "      <td>False</td>\n",
       "      <td>False</td>\n",
       "      <td>Other publishers/Files (500) (9).DOCX</td>\n",
       "      <td>\\n\\nToys. Pencils. Mugs. Lug nuts. Cans for nu...</td>\n",
       "    </tr>\n",
       "    <tr>\n",
       "      <th>474</th>\n",
       "      <td>Abortion Politics Didn't Doom the G.O.P.</td>\n",
       "      <td>The New York Times</td>\n",
       "      <td>2008-12-07</td>\n",
       "      <td>Section WK; Column 0; Editorial Desk; Pg. 10; ...</td>\n",
       "      <td>1207 words</td>\n",
       "      <td>\\n\\n  AN  iron law of recent American politics...</td>\n",
       "      <td>False</td>\n",
       "      <td>False</td>\n",
       "      <td>NYT/39.DOCX</td>\n",
       "      <td>\\n\\n AN iron law of recent American politics d...</td>\n",
       "    </tr>\n",
       "  </tbody>\n",
       "</table>\n",
       "</div>"
      ],
      "text/plain": [
       "                                                 title  \\\n",
       "423  Desperate Years: To Be Young, British and Lack...   \n",
       "466                    The G.O.P. Can Avoid A Disaster   \n",
       "275  Crash lawyers like Boeing move Cook County, Il...   \n",
       "426              THERE'S SURGING DEMAND FOR CAD TALENT   \n",
       "474           Abortion Politics Didn't Doom the G.O.P.   \n",
       "\n",
       "                   publisher        date  \\\n",
       "423      The New York Times   2013-12-19   \n",
       "466       The New York Times  2018-04-05   \n",
       "275                USA TODAY  2001-05-16   \n",
       "426  Pittsburgh Post-Gazette  2018-05-30   \n",
       "474       The New York Times  2008-12-07   \n",
       "\n",
       "                                               section      length  \\\n",
       "423                                             MOVIES   616 words   \n",
       "466  Section A; Column 0; Editorial Desk; Pg. 27; O...  1204 words   \n",
       "275                                              NEWS;   452 words   \n",
       "426                                BUSINESS; Pg. TP-50   800 words   \n",
       "474  Section WK; Column 0; Editorial Desk; Pg. 10; ...  1207 words   \n",
       "\n",
       "                                                  body  correction_appended  \\\n",
       "423  \\n\\nFor today’s socially conscious British fil...                False   \n",
       "466  \\n\\nWith Democrats winning in normally deep re...                False   \n",
       "275  \\n\\nWhen Boeing Co. announced plans last week ...                False   \n",
       "426  \\n\\nToys. Pencils. Mugs. Lug nuts. Cans for nu...                False   \n",
       "474  \\n\\n  AN  iron law of recent American politics...                False   \n",
       "\n",
       "     load_date_at_end                             source_file  \\\n",
       "423             False                             NYT/23.DOCX   \n",
       "466             False                             NYT/23.DOCX   \n",
       "275             False  Other publishers/Files (500) (17).DOCX   \n",
       "426             False   Other publishers/Files (500) (9).DOCX   \n",
       "474             False                             NYT/39.DOCX   \n",
       "\n",
       "                                          body_cleaned  \n",
       "423  \\n\\nFor today’s socially conscious British fil...  \n",
       "466  \\n\\nWith Democrats winning in normally deep re...  \n",
       "275  \\n\\nWhen Boeing Co. announced plans last week ...  \n",
       "426  \\n\\nToys. Pencils. Mugs. Lug nuts. Cans for nu...  \n",
       "474  \\n\\n AN iron law of recent American politics d...  "
      ]
     },
     "execution_count": 8,
     "metadata": {},
     "output_type": "execute_result"
    }
   ],
   "source": [
    "df_missing_working_class = df_articles[[('working-class' not in str(i).lower()) and ('working class' not in str(i).lower()) and ('(working) class' not in str(i).lower()) for i in df_articles['body_cleaned']]]\n",
    "df_missing_working_class = df_missing_working_class[[('working-class' not in str(i).lower()) and ('working class' not in str(i).lower()) for i in df_missing_working_class['title']]]\n",
    "\n",
    "df_missing_working_class.head()"
   ]
  },
  {
   "cell_type": "code",
   "execution_count": 53,
   "id": "11652dc7",
   "metadata": {},
   "outputs": [
    {
     "name": "stdout",
     "output_type": "stream",
     "text": [
      "Data issue: 0.61% of articles don't include the working class keyworks.\n"
     ]
    }
   ],
   "source": [
    "# percetnage time missing\n",
    "fraction_missing = (df_missing_working_class.shape[0]) / df_articles.shape[0]\n",
    "if fraction_missing > 0:\n",
    "    print(\"Data issue: {}% of articles don't include the working class keyworks.\".format(round(fraction_missing*100,2)))\n",
    "else:\n",
    "    print(\"Issue resolved.\")"
   ]
  },
  {
   "cell_type": "code",
   "execution_count": 57,
   "id": "fa751939",
   "metadata": {},
   "outputs": [
    {
     "data": {
      "text/plain": [
       "'Desperate Years: To Be Young, British and Lacking; Movie Review'"
      ]
     },
     "execution_count": 57,
     "metadata": {},
     "output_type": "execute_result"
    }
   ],
   "source": [
    "df_missing_working_class[\"title\"].iloc[0]"
   ]
  },
  {
   "cell_type": "markdown",
   "id": "3810b1b3",
   "metadata": {},
   "source": [
    "__Observation:__ Manual review of a sample of articles revealed that the \"working-class\" keywords are present in data outside the article title and body => not a parsing or data extraction issue. Some of the articles still appear to be relevant, but many are not.\n",
    "\n",
    "__Decision:__ Keep articles until further analysis.\n",
    "\n",
    "__To do:__ Look into articles starting with \"Best Sellers:\" (but also generalize to articles starting with topic:specific_info) @Burui"
   ]
  },
  {
   "cell_type": "markdown",
   "id": "e4ca31a5",
   "metadata": {},
   "source": [
    "__Other observations__\n",
    "\n",
    "To do:\n",
    "\n",
    "* remove \"load-date:\" and other dates.\n",
    "\n",
    "* filter out: df_articles[\"title\"] == \"Movie guide\", MOVIE GUIDE"
   ]
  },
  {
   "cell_type": "code",
   "execution_count": null,
   "id": "c577196d",
   "metadata": {},
   "outputs": [],
   "source": []
  }
 ],
 "metadata": {
  "kernelspec": {
   "display_name": "Python 3.12",
   "language": "python",
   "name": "python3.12"
  },
  "language_info": {
   "codemirror_mode": {
    "name": "ipython",
    "version": 3
   },
   "file_extension": ".py",
   "mimetype": "text/x-python",
   "name": "python",
   "nbconvert_exporter": "python",
   "pygments_lexer": "ipython3",
   "version": "3.12.3"
  }
 },
 "nbformat": 4,
 "nbformat_minor": 5
}
