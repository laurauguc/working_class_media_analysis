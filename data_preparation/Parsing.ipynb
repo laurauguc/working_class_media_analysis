{
 "cells": [
  {
   "cell_type": "code",
   "execution_count": 8,
   "metadata": {},
   "outputs": [],
   "source": [
    "from docx import Document\n",
    "import pandas as pd\n",
    "from datetime import datetime\n",
    "import os\n",
    "import time"
   ]
  },
  {
   "cell_type": "code",
   "execution_count": 2,
   "metadata": {},
   "outputs": [
    {
     "name": "stdout",
     "output_type": "stream",
     "text": [
      "Files to process:  88\n"
     ]
    }
   ],
   "source": [
    "import glob\n",
    "docx_files = glob.glob(os.path.join('..', 'data', 'raw', '*', '*.DOCX'))\n",
    "print(\"Files to process: \", len(docx_files))"
   ]
  },
  {
   "cell_type": "code",
   "execution_count": null,
   "metadata": {},
   "outputs": [],
   "source": [
    "def clean_date(cleaned_date_str):\n",
    "    parsed_date = datetime.strptime(cleaned_date_str, '%B %d, %Y')\n",
    "    return parsed_date.strftime('%Y-%m-%d')"
   ]
  },
  {
   "cell_type": "code",
   "execution_count": 3,
   "metadata": {},
   "outputs": [],
   "source": [
    "def extract_articles_to_dataframe(doc_path):\n",
    "    # Start timer\n",
    "    start_time = time.time()\n",
    "    print(\"Processing document: \", doc_path)\n",
    "    doc = Document(doc_path)\n",
    "    count = 0\n",
    "    articles = []\n",
    "    while count < len(doc.paragraphs):\n",
    "        #for para in doc.paragraphs:\n",
    "        para = doc.paragraphs[count]\n",
    "        count += 1\n",
    "        if \"Heading 1\" in para.style.name: # @Guo: note that Docx files contain metadate on each paragraph, such as the paragraph style, not just the text. I leverage this to obtain the titles.\n",
    "            article = {}\n",
    "            correction_appended = False\n",
    "            article['title'] = para.text.strip()\n",
    "            article['publisher'] =  doc.paragraphs[count].text  \n",
    "            raw_date = doc.paragraphs[count+1].text\n",
    "            # Remove trailing weekday if present (e.g., \"Tuesday\")\n",
    "            date_parts = raw_date.split()[:3]  # \"November 19, 2024\"\n",
    "            cleaned_date_str = \" \".join(date_parts).strip(\",\")\n",
    "            try:\n",
    "                article['date'] = clean_date(cleaned_date_str)\n",
    "            except:\n",
    "                if doc.paragraphs[count+2].text.strip(\"\\n \") == \"Correction Appended\":\n",
    "                    correction_appended = True\n",
    "            #except ValueError:\n",
    "             #   continue\n",
    "            for i in range(3,9):\n",
    "                text = doc.paragraphs[count+i].text\n",
    "                if text[:8] == \"Section:\":\n",
    "                    section = text[9:]\n",
    "                    article[\"section\"] = section\n",
    "                if text[:7] == \"Length:\":\n",
    "                    article[\"length\"] = text[8:]\n",
    "                if text == \"Body\":\n",
    "                    body = []\n",
    "                    new_count = count + i + 1\n",
    "                    continue\n",
    "            while text.strip().lower() != \"end of document\":\n",
    "                text = doc.paragraphs[new_count].text\n",
    "                body.append(text)\n",
    "                new_count += 1\n",
    "            article[\"body\"] = \"\".join(body[:-1])\n",
    "            if correction_appended:\n",
    "                date_parts  = article[\"body\"].split(\"Correction-Date: \")[-1].split()[:3]\n",
    "                cleaned_date_str = \" \".join(date_parts).strip(\",\")\n",
    "                article['date'] = clean_date(cleaned_date_str)\n",
    "            count = new_count\n",
    "            article[\"correction_appended\"] = correction_appended\n",
    "            articles.append(article)\n",
    "    print(\"Number of articles: \", len(articles))\n",
    "\n",
    "    df = pd.DataFrame(articles)\n",
    "    df[\"source_file\"] = os.path.basename(doc_path)\n",
    "\n",
    "    # End timer\n",
    "    end_time = time.time()\n",
    "\n",
    "    # Calculate the difference\n",
    "    elapsed_time = end_time - start_time\n",
    "    print(f\"Elapsed time: {elapsed_time / 60:.2f} minutes\")\n",
    "    return df"
   ]
  },
  {
   "cell_type": "code",
   "execution_count": 5,
   "metadata": {},
   "outputs": [],
   "source": [
    "# temp\n",
    "docx_files = docx_files[:5]"
   ]
  },
  {
   "cell_type": "code",
   "execution_count": null,
   "metadata": {},
   "outputs": [
    {
     "name": "stdout",
     "output_type": "stream",
     "text": [
      "Processing document:  ../data/raw/Other publishers/Files (500) (21).DOCX\n",
      "Processing document:  ../data/raw/Other publishers/Files (500) (2).DOCX\n",
      "Processing document:  ../data/raw/Other publishers/Files (500) (23).DOCX\n",
      "Processing document:  ../data/raw/Other publishers/Files (500) (27).DOCX\n",
      "Processing document:  ../data/raw/Other publishers/Files (500) (4).DOCX\n"
     ]
    }
   ],
   "source": [
    "from concurrent.futures import ThreadPoolExecutor\n",
    "\n",
    "# Define a helper function to process a single file\n",
    "\n",
    "# Use ThreadPoolExecutor to process files in parallel\n",
    "with ThreadPoolExecutor() as executor:\n",
    "    results = list(executor.map(extract_articles_to_dataframe, docx_files))\n",
    "    \n",
    "# Concatenate all resulting DataFrames\n",
    "df_articles = pd.concat(results, ignore_index=True)"
   ]
  },
  {
   "cell_type": "code",
   "execution_count": null,
   "metadata": {},
   "outputs": [],
   "source": [
    "from pathlib import Path\n",
    "\n",
    "folder = Path(\"../data/processed/\")\n",
    "folder.mkdir(parents=True, exist_ok=True)\n",
    "\n",
    "df_articles.to_pickle(\"../data/processed/parsed_articles.pkl\")"
   ]
  },
  {
   "cell_type": "code",
   "execution_count": null,
   "metadata": {},
   "outputs": [],
   "source": []
  },
  {
   "cell_type": "code",
   "execution_count": null,
   "metadata": {},
   "outputs": [],
   "source": []
  },
  {
   "cell_type": "code",
   "execution_count": null,
   "metadata": {},
   "outputs": [],
   "source": [
    "\n",
    "\n",
    "# check if \"processed\" folder exists. If not create it before saving the file\n",
    "\n",
    "# number the script. e.g. 1 for parsing, 2 for cleaning.\n"
   ]
  }
 ],
 "metadata": {
  "colab": {
   "provenance": []
  },
  "kernelspec": {
   "display_name": "Python 3 (ipykernel)",
   "language": "python",
   "name": "python3"
  },
  "language_info": {
   "codemirror_mode": {
    "name": "ipython",
    "version": 3
   },
   "file_extension": ".py",
   "mimetype": "text/x-python",
   "name": "python",
   "nbconvert_exporter": "python",
   "pygments_lexer": "ipython3",
   "version": "3.9.21"
  }
 },
 "nbformat": 4,
 "nbformat_minor": 1
}
