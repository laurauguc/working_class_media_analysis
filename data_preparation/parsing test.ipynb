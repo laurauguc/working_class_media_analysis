{
 "cells": [
  {
   "cell_type": "code",
   "execution_count": 14,
   "id": "f0c10325",
   "metadata": {},
   "outputs": [],
   "source": [
    "from docx import Document\n",
    "import pandas as pd\n",
    "from datetime import datetime\n",
    "import os\n",
    "import time\n",
    "from tqdm import tqdm\n"
   ]
  },
  {
   "cell_type": "code",
   "execution_count": 15,
   "id": "2003cb95",
   "metadata": {},
   "outputs": [],
   "source": [
    "def clean_date(cleaned_date_str):\n",
    "    parsed_date = datetime.strptime(cleaned_date_str, '%B %d, %Y')\n",
    "    return parsed_date.strftime('%Y-%m-%d')"
   ]
  },
  {
   "cell_type": "code",
   "execution_count": 50,
   "id": "bfe1ce56",
   "metadata": {},
   "outputs": [],
   "source": [
    "def extract_articles_to_dataframe(doc_path):\n",
    "    # Start timer\n",
    "    start_time = time.time()\n",
    "    print(\"Processing document: \", doc_path)\n",
    "    doc = Document(doc_path)\n",
    "    count = 0\n",
    "    articles = []\n",
    "    total_paragraphs = len(doc.paragraphs)\n",
    "    while count < total_paragraphs:\n",
    "        #for para in doc.paragraphs:\n",
    "        para = doc.paragraphs[count]\n",
    "        count += 1\n",
    "        if \"Heading 1\" in para.style.name: # @Guo: note that Docx files contain metadate on each paragraph, such as the paragraph style, not just the text. I leverage this to obtain the titles.\n",
    "            article = {}\n",
    "            correction_appended = False\n",
    "            article['title'] = para.text.strip()\n",
    "            article['publisher'] =  doc.paragraphs[count].text\n",
    "            raw_date = doc.paragraphs[count+1].text\n",
    "            # Remove trailing weekday if present (e.g., \"Tuesday\")\n",
    "            date_parts = raw_date.split()[:3]  # \"November 19, 2024\"\n",
    "            cleaned_date_str = \" \".join(date_parts).strip(\",\")\n",
    "            try:\n",
    "                article['date'] = clean_date(cleaned_date_str)\n",
    "            except:\n",
    "                if doc.paragraphs[count+2].text.strip(\"\\n \") == \"Correction Appended\":\n",
    "                    correction_appended = True\n",
    "            #except ValueError:\n",
    "             #   continue\n",
    "            for i in range(3,20):\n",
    "                text = doc.paragraphs[count+i].text\n",
    "                if text[:8] == \"Section:\":\n",
    "                    section = text[9:]\n",
    "                    article[\"section\"] = section\n",
    "                if text[:7] == \"Length:\":\n",
    "                    article[\"length\"] = text[8:]\n",
    "                if text == \"Body\":\n",
    "                    count_body_start = count + i + 1\n",
    "                    break\n",
    "            # Extract body\n",
    "            body = []\n",
    "            new_count = count_body_start\n",
    "            while text.strip(\"\\n \").lower() != \"end of document\":\n",
    "                text = doc.paragraphs[new_count].text\n",
    "                body.append(text)\n",
    "                new_count += 1\n",
    "            article[\"body\"] = \"\".join(body[:-1])\n",
    "\n",
    "            # Handle correction\n",
    "            if correction_appended:\n",
    "                date_parts  = article[\"body\"].split(\"Correction-Date: \")[-1].split()[:3]\n",
    "                cleaned_date_str = \" \".join(date_parts).strip(\",\")\n",
    "                article['date'] = clean_date(cleaned_date_str)\n",
    "            count = new_count\n",
    "            article[\"correction_appended\"] = correction_appended\n",
    "            articles.append(article)\n",
    "    print(\"Number of articles: \", len(articles))\n",
    "\n",
    "    df = pd.DataFrame(articles)\n",
    "    df[\"source_file\"] = os.path.basename(doc_path)\n",
    "\n",
    "    # End timer\n",
    "    end_time = time.time()\n",
    "\n",
    "    # Calculate the difference\n",
    "    elapsed_time = end_time - start_time\n",
    "    print(f\"Elapsed time: {elapsed_time / 60:.2f} minutes\")\n",
    "    return df"
   ]
  },
  {
   "cell_type": "code",
   "execution_count": 51,
   "id": "9c8a0f64",
   "metadata": {},
   "outputs": [
    {
     "name": "stdout",
     "output_type": "stream",
     "text": [
      "Files to process:  88\n"
     ]
    }
   ],
   "source": [
    "import glob\n",
    "docx_files = glob.glob(os.path.join('..', 'data', 'raw', '*', '*.DOCX'))\n",
    "print(\"Files to process: \", len(docx_files))"
   ]
  },
  {
   "cell_type": "code",
   "execution_count": null,
   "id": "c68b483a",
   "metadata": {},
   "outputs": [],
   "source": [
    "doc"
   ]
  },
  {
   "cell_type": "code",
   "execution_count": null,
   "id": "8727bf89",
   "metadata": {},
   "outputs": [
    {
     "name": "stdout",
     "output_type": "stream",
     "text": [
      "Processing document:  ../data/raw/Other publishers/Files (500) (21).DOCX\n"
     ]
    },
    {
     "name": "stderr",
     "output_type": "stream",
     "text": [
      "Exception ignored in: <bound method IPythonKernel._clean_thread_parent_frames of <ipykernel.ipkernel.IPythonKernel object at 0x1055db860>>\n",
      "Traceback (most recent call last):\n",
      "  File \"/Users/laura/venvs/python3.12/lib/python3.12/site-packages/ipykernel/ipkernel.py\", line 775, in _clean_thread_parent_frames\n",
      "    def _clean_thread_parent_frames(\n",
      "\n",
      "KeyboardInterrupt: \n"
     ]
    }
   ],
   "source": [
    "df_articles = pd.DataFrame()\n",
    "for doc_path in docx_files:\n",
    "    df = extract_articles_to_dataframe(doc_path)\n",
    "    df_articles = pd.concat([df_articles, df])\n",
    "    print(\"Total articles: \", df_articles.shape[0])"
   ]
  },
  {
   "cell_type": "code",
   "execution_count": 33,
   "id": "28408c6f",
   "metadata": {},
   "outputs": [
    {
     "name": "stdout",
     "output_type": "stream",
     "text": [
      "Processing document:  ../data/raw/Other publishers/Files (500) (21).DOCX\n",
      "Number of articles:  500\n",
      "Elapsed time: 13.77 minutes\n",
      "Total articles:  500\n",
      "Processing document:  ../data/raw/Other publishers/Files (500) (2).DOCX\n"
     ]
    },
    {
     "ename": "UnboundLocalError",
     "evalue": "cannot access local variable 'new_count' where it is not associated with a value",
     "output_type": "error",
     "traceback": [
      "\u001b[31m---------------------------------------------------------------------------\u001b[39m",
      "\u001b[31mUnboundLocalError\u001b[39m                         Traceback (most recent call last)",
      "\u001b[36mCell\u001b[39m\u001b[36m \u001b[39m\u001b[32mIn[33]\u001b[39m\u001b[32m, line 3\u001b[39m\n\u001b[32m      1\u001b[39m df_articles = pd.DataFrame()\n\u001b[32m      2\u001b[39m \u001b[38;5;28;01mfor\u001b[39;00m doc_path \u001b[38;5;129;01min\u001b[39;00m docx_files:\n\u001b[32m----> \u001b[39m\u001b[32m3\u001b[39m     df = \u001b[43mextract_articles_to_dataframe\u001b[49m\u001b[43m(\u001b[49m\u001b[43mdoc_path\u001b[49m\u001b[43m)\u001b[49m\n\u001b[32m      4\u001b[39m     df_articles = pd.concat([df_articles, df])\n\u001b[32m      5\u001b[39m     \u001b[38;5;28mprint\u001b[39m(\u001b[33m\"\u001b[39m\u001b[33mTotal articles: \u001b[39m\u001b[33m\"\u001b[39m, df_articles.shape[\u001b[32m0\u001b[39m])\n",
      "\u001b[36mCell\u001b[39m\u001b[36m \u001b[39m\u001b[32mIn[28]\u001b[39m\u001b[32m, line 40\u001b[39m, in \u001b[36mextract_articles_to_dataframe\u001b[39m\u001b[34m(doc_path)\u001b[39m\n\u001b[32m     38\u001b[39m         \u001b[38;5;28;01mcontinue\u001b[39;00m\n\u001b[32m     39\u001b[39m \u001b[38;5;28;01mwhile\u001b[39;00m text.strip().lower() != \u001b[33m\"\u001b[39m\u001b[33mend of document\u001b[39m\u001b[33m\"\u001b[39m:\n\u001b[32m---> \u001b[39m\u001b[32m40\u001b[39m     text = doc.paragraphs[\u001b[43mnew_count\u001b[49m].text\n\u001b[32m     41\u001b[39m     body.append(text)\n\u001b[32m     42\u001b[39m     new_count += \u001b[32m1\u001b[39m\n",
      "\u001b[31mUnboundLocalError\u001b[39m: cannot access local variable 'new_count' where it is not associated with a value"
     ]
    }
   ],
   "source": [
    "df_articles = pd.DataFrame()\n",
    "for doc_path in docx_files:\n",
    "    df = extract_articles_to_dataframe(doc_path)\n",
    "    df_articles = pd.concat([df_articles, df])\n",
    "    print(\"Total articles: \", df_articles.shape[0])"
   ]
  },
  {
   "cell_type": "code",
   "execution_count": null,
   "id": "d72841e0",
   "metadata": {},
   "outputs": [],
   "source": []
  },
  {
   "cell_type": "code",
   "execution_count": null,
   "id": "58bb850f",
   "metadata": {},
   "outputs": [],
   "source": []
  },
  {
   "cell_type": "code",
   "execution_count": null,
   "id": "7385c9c1",
   "metadata": {},
   "outputs": [],
   "source": []
  },
  {
   "cell_type": "code",
   "execution_count": null,
   "id": "0101d921",
   "metadata": {},
   "outputs": [],
   "source": []
  },
  {
   "cell_type": "code",
   "execution_count": null,
   "id": "c66c4c07",
   "metadata": {},
   "outputs": [],
   "source": []
  },
  {
   "cell_type": "code",
   "execution_count": null,
   "id": "b2140fe9",
   "metadata": {},
   "outputs": [],
   "source": []
  },
  {
   "cell_type": "code",
   "execution_count": 46,
   "id": "20a4f367",
   "metadata": {},
   "outputs": [
    {
     "name": "stdout",
     "output_type": "stream",
     "text": [
      "Processing document:  ../data/raw/Other publishers/Files (500) (2).DOCX\n",
      "Number of articles:  500\n",
      "Elapsed time: 10.02 minutes\n"
     ]
    }
   ],
   "source": [
    "doc_path = \"../data/raw/Other publishers/Files (500) (2).DOCX\"\n",
    "df = extract_articles_to_dataframe(doc_path)"
   ]
  },
  {
   "cell_type": "code",
   "execution_count": 47,
   "id": "9a158c68",
   "metadata": {},
   "outputs": [
    {
     "data": {
      "text/plain": [
       "(500, 8)"
      ]
     },
     "execution_count": 47,
     "metadata": {},
     "output_type": "execute_result"
    }
   ],
   "source": [
    "df.shape"
   ]
  },
  {
   "cell_type": "code",
   "execution_count": 48,
   "id": "f7c6d251",
   "metadata": {},
   "outputs": [
    {
     "name": "stdout",
     "output_type": "stream",
     "text": [
      "South Minneapolis environmental activists have raised - and the city has verified - $3.7 million in donations to buy 7.6 acres of city-owned property at E. 28th Street and Longfellow Avenue in the East Phillips neighborhood.The property contains a former Roof Depot warehouse, which the group East Phillips Neighborhood Institute (EPNI) intends to redevelop into an indoor farm.The city gave EPNI until Wednesday to provide proof of having the $3.7 million in order to complete the sale. The total fair market value of the site is $11.4 million. The Legislature appropriated $2 million for the sale last session and pledged to secure another $5.7 million next year.\"It's awesome, it really is,\" said Dean Dovolis, founder of DJR Architecture and an EPNI board member. \"The community came through and this is very significant.\"Erik Hansen, Minneapolis' director of economic policy and development, confirmed the city accepted the guaranty on Wednesday afternoon.Dovolis said EPNI will now start the entitlement process to establish development rights, organize commercial tenants and refine plans so that after closing comes next summer, construction can begin.Residents of the diverse and working-class East Phillips neighborhood fought the city for control of the Roof Depot site for nearly a decade. Despite opposition from environmental and Native activists, the area's Council Member Jason Chavez and his predecessor Alondra Cano, the city spent nearly $17 million purchasing the warehouse and attempting to replace it with a Public Works facility.The centrally located facility would have improved the efficiency of water infrastructure maintenance crews, but at the cost of concentrating diesel trucks and employee vehicles in East Phillips, which suffers high rates of asthma. Residents have long blamed nearby Hwy. 55 and industrial zoning that allowed businesses like Smith Foundry - recently found to have been violating its air permit in a surprise visit by the EPA - in their neighborhood.Protesters prevented demolition of Roof Depot at the 11th hour last winter, and a deal struck with the Minneapolis legislative delegation brokered a purchase agreement between the city and EPNI. The Legislature has committed an additional $4.5 million to Minneapolis to build its Public Works facility somewhere else.EPNI submitted proof of the $3.7 million Tuesday afternoon in the form of a personal guaranty organized by an individual, anonymous guarantor.\"This individual is committed to seeing this project come to fruition, to see the property be purchased from the city to develop a community asset, and that really is 100% of this individual's motivation,\" said Michael Weaver, the guarantor's lawyer. \"His motive was not to make money.\"Susan Du · 612-673-4028\n",
      "Load-Date: November 9, 2023\n"
     ]
    }
   ],
   "source": [
    "print(df.body[0])"
   ]
  },
  {
   "cell_type": "code",
   "execution_count": 49,
   "id": "78ad57af",
   "metadata": {},
   "outputs": [
    {
     "name": "stdout",
     "output_type": "stream",
     "text": [
      "A majority of Americans support higher pay for auto workers who are on strike against Detroit's Big Three carmakers, although approval of the workers' other demands is more mixed, according to a poll from The Associated Press-NORC Center for Public Affairs Research.The poll found that 36% of Americans sympathize with the workers in their dispute with the automakers, 9% support the automakers, and the rest back both or neither. Support for the autoworkers fell short of the 55% support for striking Hollywood writers and actors in an AP-NORC poll conducted last month. Still, the new poll adds to evidence of U.S. support for labor unions during a year marked by strikes in Hollywood, a walkout that was narrowly averted by Teamsters at United Parcel Service, and now the picket lines outside auto plants. In the new AP-NORC survey, 51% say labor unions help U.S. workers while only 15% say they hurt working people. About one-third say unions help the U.S. economy, while 22% say they damage the economy. A Gallup poll taken in August found that 67% of Americans approve of unions, down four points from 2022 but up from a low of 48% in 2009. Rachel Collins, a fifth-grade teacher and union member in Chicago, says she hopes the UAW strike could help reverse a long decline in labor power and raise pay for workers across the economy. \"For far too long, labor has been the backbone of what we do in this country but has never been compensated,\" she said. \"In the last 50 years we have seen the decline of the working class and the rise of this sort of billionaire class and corporations taking and taking and not giving anything to the workers.\" Chris Ross, a mechanical engineer from Oviedo, Florida, said he understands the workers' desire for more money to cope with inflation. However, he thinks they are paid better than similar workers in other industries, and he fears that the union's demands will drive the carmakers' costs too high as they face lower-cost rivals including non-union Tesla. \"If they are burdened with high labor costs, I suspect that's going to hurt them,\" Ross said. \"I'd like to see the Big Three have an ideal opportunity to compete. That's better for the consumers.\" The United Auto Workers went on strike Sept. 15 against Ford, General Motors and Stellantis, which owns the Jeep, Dodge and Ram brands. The union is seeking large pay raises, a shorter work week, an end to lower-pay tiers for new workers and limits on the use of temporary workers. Six in 10 people in the AP-NORC poll say they think better pay for the autoworkers would be a good thing. Eight in 10 Democrats and just under half of Republicans say it would be a good thing if the workers got raises. General sympathy for the workers also breaks along party lines. More than half of Democrats (55%) say they support the workers over the automakers, while only 22% of Republicans feel that way. A majority of Republicans say they support both equally, or neither. Americans are less certain about the UAW's specific demands beyond pay raises. More than one-third (38%) think the union's call for a four-day work week would be a good thing, while 21% think it's a bad idea. The public is also somewhat more likely to say it would be a good thing than a bad thing to place limits on the car companies' use of temporary workers and to require electric vehicles and parts to be made by union workers, but many are unsure or express no opinion either way. President Joe Biden has openly supported the UAW and joined a picket line near Detroit on Sept. 26, telling the workers that they deserve significant raises. The front-runner for the Republican nomination, former President Donald Trump, spoke to a group of current and former union members nearby the following night and said Biden's support for electric vehicles  he signed a law last year that extended tax credits for buying EVs  would cost jobs. That's a fear held by some auto workers who maintain that EVs require fewer people to build. The poll shows only 25% of Americans approve of Biden's handling of the auto dispute, while 34% disapprove. Trump's ratings on the issue are even worse, with 19% approving and 39% disapproving of his response to the strike. Thirty-five percent trust Democrats more than Republicans when it comes to handling issues facing American workers, while 24% trust the GOP more. Barbara Tubbs, a retired caregiver from Dallas, said Biden's support for the strikers shows empathy for working-class people struggling to pay their bills. \"He has said he knows what it's like to be in hardship,\" which makes him \"willing to help with life situations and challenges we are dealing with today,\" she said. But Jim Grove, a retired teacher and guidance counselor in Sharon, Pennsylvania, wasn't impressed by Biden's visit to the picket line. \"He's a shameless panderer,\" Grove said. \"If he gets a chance to pander to some special interest group, he does it.\" The poll of 1,163 adults was conducted Oct. 5-9, 2023, using a sample drawn from NORC's probability-based AmeriSpeak Panel, designed to represent the U.S. population. The margin of sampling error for all respondents is plus or minus 3.9 percentage points.\n",
      "Graphic FILE - United Auto Workers members hold picket signs near a General Motors Assembly Plant in Delta Township, Mich., Sept. 29, 2023. As the auto workers strike approaches the one-month mark, more Americans sympathize with the striking workers than with the three big car companies that employ them. That's one of the findings in a new poll from The Associated Press-NORC Center for Public Affairs Research. (AP Photo/Paul Sancya)\n",
      "Load-Date: October 12, 2023\n"
     ]
    }
   ],
   "source": [
    "print(df.body[1])"
   ]
  },
  {
   "cell_type": "code",
   "execution_count": null,
   "id": "595e6160",
   "metadata": {},
   "outputs": [],
   "source": []
  },
  {
   "cell_type": "code",
   "execution_count": null,
   "id": "624fb9da",
   "metadata": {},
   "outputs": [],
   "source": []
  },
  {
   "cell_type": "code",
   "execution_count": 41,
   "id": "bb588b0c",
   "metadata": {},
   "outputs": [
    {
     "name": "stdout",
     "output_type": "stream",
     "text": [
      "Processing document:  ../data/raw/Other publishers/Files (500) (2).DOCX\n",
      "3\n",
      "4\n",
      "5\n",
      "6\n",
      "7\n",
      "8\n"
     ]
    },
    {
     "ename": "IndexError",
     "evalue": "list index out of range",
     "output_type": "error",
     "traceback": [
      "\u001b[31m---------------------------------------------------------------------------\u001b[39m",
      "\u001b[31mIndexError\u001b[39m                                Traceback (most recent call last)",
      "\u001b[36mCell\u001b[39m\u001b[36m \u001b[39m\u001b[32mIn[41]\u001b[39m\u001b[32m, line 41\u001b[39m\n\u001b[32m     39\u001b[39m         \u001b[38;5;28;01mcontinue\u001b[39;00m\n\u001b[32m     40\u001b[39m \u001b[38;5;28;01mwhile\u001b[39;00m text.strip(\u001b[33m\"\u001b[39m\u001b[38;5;130;01m\\n\u001b[39;00m\u001b[33m \u001b[39m\u001b[33m\"\u001b[39m).lower() != \u001b[33m\"\u001b[39m\u001b[33mend of document\u001b[39m\u001b[33m\"\u001b[39m:\n\u001b[32m---> \u001b[39m\u001b[32m41\u001b[39m     text = \u001b[43mdoc\u001b[49m\u001b[43m.\u001b[49m\u001b[43mparagraphs\u001b[49m\u001b[43m[\u001b[49m\u001b[43mnew_count\u001b[49m\u001b[43m]\u001b[49m.text\n\u001b[32m     42\u001b[39m     body.append(text)\n\u001b[32m     43\u001b[39m     new_count += \u001b[32m1\u001b[39m\n",
      "\u001b[31mIndexError\u001b[39m: list index out of range"
     ]
    }
   ],
   "source": [
    "# Start timer\n",
    "start_time = time.time()\n",
    "print(\"Processing document: \", doc_path)\n",
    "doc = Document(doc_path)\n",
    "count = 0\n",
    "articles = []\n",
    "while count < len(doc.paragraphs):\n",
    "    #for para in doc.paragraphs:\n",
    "    para = doc.paragraphs[count]\n",
    "    count += 1\n",
    "    if \"Heading 1\" in para.style.name: # @Guo: note that Docx files contain metadate on each paragraph, such as the paragraph style, not just the text. I leverage this to obtain the titles.\n",
    "        article = {}\n",
    "        correction_appended = False\n",
    "        article['title'] = para.text.strip()\n",
    "        article['publisher'] =  doc.paragraphs[count].text  \n",
    "        raw_date = doc.paragraphs[count+1].text\n",
    "        # Remove trailing weekday if present (e.g., \"Tuesday\")\n",
    "        date_parts = raw_date.split()[:3]  # \"November 19, 2024\"\n",
    "        cleaned_date_str = \" \".join(date_parts).strip(\",\")\n",
    "        try:\n",
    "            article['date'] = clean_date(cleaned_date_str)\n",
    "        except:\n",
    "            if doc.paragraphs[count+2].text.strip(\"\\n \") == \"Correction Appended\":\n",
    "                correction_appended = True\n",
    "        #except ValueError:\n",
    "         #   continue\n",
    "        for i in range(3,9):\n",
    "            print(i)\n",
    "            text = doc.paragraphs[count+i].text\n",
    "            if text[:8] == \"Section:\":\n",
    "                section = text[9:]\n",
    "                article[\"section\"] = section\n",
    "            if text[:7] == \"Length:\":\n",
    "                article[\"length\"] = text[8:]\n",
    "            if text == \"Body\":\n",
    "                print(\"Body\")\n",
    "                body = []\n",
    "                new_count = count + i + 1\n",
    "                continue\n",
    "        while text.strip(\"\\n \").lower() != \"end of document\":\n",
    "            text = doc.paragraphs[new_count].text\n",
    "            body.append(text)\n",
    "            new_count += 1\n",
    "        article[\"body\"] = \"\".join(body[:-1])\n",
    "        if correction_appended:\n",
    "            date_parts  = article[\"body\"].split(\"Correction-Date: \")[-1].split()[:3]\n",
    "            cleaned_date_str = \" \".join(date_parts).strip(\",\")\n",
    "            article['date'] = clean_date(cleaned_date_str)\n",
    "        count = new_count # why not just use the count variable?\n",
    "        article[\"correction_appended\"] = correction_appended\n",
    "        articles.append(article)\n",
    "print(\"Number of articles: \", len(articles))\n",
    "\n",
    "df = pd.DataFrame(articles)\n",
    "df[\"source_file\"] = os.path.basename(doc_path)\n",
    "\n",
    "# End timer\n",
    "end_time = time.time()\n",
    "\n",
    "# Calculate the difference\n",
    "elapsed_time = end_time - start_time\n",
    "#print(f\"Elapsed time: {elapsed_time:.4f} seconds\")\n",
    "print(f\"Elapsed time: {elapsed_time / 60:.2f} minutes\")"
   ]
  },
  {
   "cell_type": "code",
   "execution_count": 42,
   "id": "4c540181",
   "metadata": {},
   "outputs": [
    {
     "data": {
      "text/plain": [
       "'Highlight:\\xa0Environmental activists have sought to redevelop it as an indoor farm.'"
      ]
     },
     "execution_count": 42,
     "metadata": {},
     "output_type": "execute_result"
    }
   ],
   "source": [
    "text"
   ]
  },
  {
   "cell_type": "code",
   "execution_count": 43,
   "id": "14cda800",
   "metadata": {},
   "outputs": [
    {
     "data": {
      "text/plain": [
       "{'title': \"Group's $3.7M to buy Roof Depot\",\n",
       " 'publisher': 'Star Tribune (Minneapolis, MN)',\n",
       " 'date': '2023-11-09',\n",
       " 'section': 'NEWS; Pg. 1B',\n",
       " 'length': '461 words'}"
      ]
     },
     "execution_count": 43,
     "metadata": {},
     "output_type": "execute_result"
    }
   ],
   "source": [
    "article"
   ]
  },
  {
   "cell_type": "code",
   "execution_count": 38,
   "id": "db541561",
   "metadata": {},
   "outputs": [
    {
     "data": {
      "text/plain": [
       "26881"
      ]
     },
     "execution_count": 38,
     "metadata": {},
     "output_type": "execute_result"
    }
   ],
   "source": [
    "new_count"
   ]
  },
  {
   "cell_type": "code",
   "execution_count": 39,
   "id": "282342a7",
   "metadata": {},
   "outputs": [
    {
     "data": {
      "text/plain": [
       "22204"
      ]
     },
     "execution_count": 39,
     "metadata": {},
     "output_type": "execute_result"
    }
   ],
   "source": [
    "len(doc.paragraphs)"
   ]
  },
  {
   "cell_type": "code",
   "execution_count": 40,
   "id": "747838bf",
   "metadata": {},
   "outputs": [
    {
     "data": {
      "text/plain": [
       "0"
      ]
     },
     "execution_count": 40,
     "metadata": {},
     "output_type": "execute_result"
    }
   ],
   "source": [
    "len(articles)"
   ]
  },
  {
   "cell_type": "code",
   "execution_count": null,
   "id": "07a2b777",
   "metadata": {},
   "outputs": [],
   "source": []
  }
 ],
 "metadata": {
  "kernelspec": {
   "display_name": "Python 3.12",
   "language": "python",
   "name": "python3.12"
  },
  "language_info": {
   "codemirror_mode": {
    "name": "ipython",
    "version": 3
   },
   "file_extension": ".py",
   "mimetype": "text/x-python",
   "name": "python",
   "nbconvert_exporter": "python",
   "pygments_lexer": "ipython3",
   "version": "3.12.3"
  }
 },
 "nbformat": 4,
 "nbformat_minor": 5
}
