{
 "cells": [
  {
   "cell_type": "markdown",
   "id": "af2ffde0",
   "metadata": {},
   "source": [
    "# 🧹 Coding Tips"
   ]
  },
  {
   "cell_type": "markdown",
   "id": "f6bc1284",
   "metadata": {},
   "source": [
    "## 1. Use Relative Paths Instead of Absolute Paths\n",
    "Relative paths point to a location relative to the working directory. This makes the code portable and ensures that collaborators can run it without errors caused by machine-specific paths.\n",
    "\n",
    "### ✅ Example: Relative Path"
   ]
  },
  {
   "cell_type": "code",
   "execution_count": 10,
   "id": "bf26f7f9",
   "metadata": {},
   "outputs": [],
   "source": [
    "folder_path = \"../data/raw/NYT/\"  # relative path based on project structure"
   ]
  },
  {
   "cell_type": "markdown",
   "id": "e0e0e71b",
   "metadata": {},
   "source": [
    "### ❌ Example: Absolute Path (machine-specific)"
   ]
  },
  {
   "cell_type": "code",
   "execution_count": 11,
   "id": "f4e53b4b",
   "metadata": {},
   "outputs": [],
   "source": [
    "# This will only work on Guo's computer\n",
    "# folder_path = '/Users/jingguo/Desktop/OPT/NLP/NYT/Archive'"
   ]
  },
  {
   "cell_type": "markdown",
   "id": "16706775",
   "metadata": {},
   "source": [
    "## 2. Word Document Paragraphs Include Metadata\n",
    "In .docx files, paragraphs contain metadata (like style names) that help identify content types, such as titles. You can use this to extract structured data.\n",
    "\n",
    "### Example: Extracting Titles"
   ]
  },
  {
   "cell_type": "code",
   "execution_count": 12,
   "id": "866f2a5a",
   "metadata": {},
   "outputs": [
    {
     "name": "stdout",
     "output_type": "stream",
     "text": [
      "Number of titles found: 500\n",
      "['White Working Class Shunning Democrats', 'A Real Working-Class Hero', 'Working Class Proves Elusive For Democrats', 'Strong Showing Spurs Midwest Mechanic to Empower Working Class', 'Is This the End of the White Working-Class Democrat?']\n"
     ]
    }
   ],
   "source": [
    "from docx import Document\n",
    "\n",
    "doc_path = \"../data/raw/NYT/1.DOCX\"\n",
    "doc = Document(doc_path)\n",
    "\n",
    "titles = [para.text for para in doc.paragraphs if \"Heading 1\" in para.style.name]\n",
    "\n",
    "print(\"Number of titles found:\", len(titles))\n",
    "print(titles[:5])\n"
   ]
  },
  {
   "cell_type": "markdown",
   "id": "fa60e295",
   "metadata": {},
   "source": [
    "### 3. Avoid Repeating Code: Use Functions\n",
    "If a block of code needs to be reused (e.g., to process different datasets), wrap it in a function. This improves maintainability and reduces errors.\n",
    "\n",
    "### Example:\n",
    "\n",
    "Instead of repeating code for NYT data and other publishers:"
   ]
  },
  {
   "cell_type": "code",
   "execution_count": 13,
   "id": "cbddc8f8",
   "metadata": {},
   "outputs": [],
   "source": [
    "def process_docx_titles(doc_path):\n",
    "    from docx import Document\n",
    "    doc = Document(doc_path)\n",
    "    titles = [para.text for para in doc.paragraphs if \"Heading 1\" in para.style.name]\n",
    "    return titles"
   ]
  },
  {
   "cell_type": "code",
   "execution_count": 14,
   "id": "364a2fc0",
   "metadata": {},
   "outputs": [
    {
     "name": "stdout",
     "output_type": "stream",
     "text": [
      "Number of titles found: 500\n",
      "['White Working Class Shunning Democrats', 'A Real Working-Class Hero', 'Working Class Proves Elusive For Democrats', 'Strong Showing Spurs Midwest Mechanic to Empower Working Class', 'Is This the End of the White Working-Class Democrat?']\n"
     ]
    }
   ],
   "source": [
    "nyt_titles = process_docx_titles(\"../data/raw/NYT/1.DOCX\")\n",
    "print(\"Number of titles found:\", len(nyt_titles))\n",
    "print(nyt_titles[:5])"
   ]
  },
  {
   "cell_type": "markdown",
   "id": "a745f990",
   "metadata": {},
   "source": [
    "### 4. Use pickle Instead of .csv for Text-Heavy or Complex Data\n",
    "\n",
    "While .csv files are a common format for tabular data, they can become unreliable when columns contain large amounts of text with punctuation, line breaks, or special characters. Such elements often cause CSV parsers to misinterpret the data, resulting in broken rows or misaligned columns—even when quoting is properly enabled. In these cases, Python’s pickle module offers a more robust solution. It preserves the exact Python object structure, avoids formatting issues, and typically loads data faster."
   ]
  },
  {
   "cell_type": "code",
   "execution_count": 15,
   "id": "8eda926a",
   "metadata": {},
   "outputs": [],
   "source": [
    "import pandas as pd\n",
    "import pickle\n",
    "\n",
    "# Sample DataFrame with a text-heavy field\n",
    "df = pd.DataFrame({\n",
    "    \"id\": [1, 2],\n",
    "    \"title\": [\"Headline A\", \"Headline B\"],\n",
    "    \"content\": [\n",
    "        \"This is a long paragraph. It has punctuation, commas, and even new\\nlines.\",\n",
    "        \"Another example! Includes: colons, quotes ('like this'), and more...\"\n",
    "    ]\n",
    "})\n",
    "\n",
    "# Save DataFrame to pickle file\n",
    "df.to_pickle(\"articles_df.pkl\")\n",
    "\n",
    "# Later, load the DataFrame from the pickle file\n",
    "df = pd.read_pickle(\"articles_df.pkl\")"
   ]
  },
  {
   "cell_type": "markdown",
   "id": "b5d3c2cc",
   "metadata": {},
   "source": [
    "## Clean-Up"
   ]
  },
  {
   "cell_type": "code",
   "execution_count": 17,
   "id": "1821e7e4",
   "metadata": {},
   "outputs": [
    {
     "name": "stdout",
     "output_type": "stream",
     "text": [
      "articles_df.pkl deleted.\n"
     ]
    }
   ],
   "source": [
    "# Delete the file if it exists\n",
    "file_path = \"articles_df.pkl\"\n",
    "if os.path.exists(file_path):\n",
    "    os.remove(file_path)\n",
    "    print(f\"{file_path} deleted.\")"
   ]
  }
 ],
 "metadata": {
  "kernelspec": {
   "display_name": "Python 3.12",
   "language": "python",
   "name": "python3.12"
  },
  "language_info": {
   "codemirror_mode": {
    "name": "ipython",
    "version": 3
   },
   "file_extension": ".py",
   "mimetype": "text/x-python",
   "name": "python",
   "nbconvert_exporter": "python",
   "pygments_lexer": "ipython3",
   "version": "3.12.3"
  }
 },
 "nbformat": 4,
 "nbformat_minor": 5
}
