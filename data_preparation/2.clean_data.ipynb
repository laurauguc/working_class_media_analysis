{
 "cells": [
  {
   "cell_type": "code",
   "execution_count": 1,
   "id": "81ff60e1",
   "metadata": {},
   "outputs": [],
   "source": [
    "import os\n",
    "import pandas as pd\n",
    "import re\n",
    "\n",
    "df_articles = pd.read_pickle(\"../data/processed/parsed_articles.pkl\")"
   ]
  },
  {
   "cell_type": "markdown",
   "id": "76054cad",
   "metadata": {},
   "source": [
    "# 1. Fixing text data"
   ]
  },
  {
   "cell_type": "markdown",
   "id": "043c1049",
   "metadata": {},
   "source": [
    "Also remove training spaces\n",
    "\n",
    "Apply to all text fields\n",
    "\n",
    "Additional standardized title:\n",
    "    * Remove title stop words\n",
    "    * Remove load data at the end"
   ]
  },
  {
   "cell_type": "code",
   "execution_count": 2,
   "id": "47ecb19d",
   "metadata": {},
   "outputs": [],
   "source": [
    "from ftfy import fix_text\n",
    "df_articles['body'] = df_articles['body'].apply(fix_text)\n",
    "df_articles['title'] = df_articles['title'].apply(fix_text)"
   ]
  },
  {
   "cell_type": "code",
   "execution_count": 3,
   "id": "40321c82",
   "metadata": {},
   "outputs": [],
   "source": [
    "# standardize titles for near-duplicates identification\n",
    "\n",
    "def standardize_text(text):\n",
    "    # Remove all non-alphanumeric characters except spaces, then lowercase\n",
    "    return re.sub(r'[^a-zA-Z0-9 ]', '', text).lower()\n",
    "\n",
    "df_articles['title_stand'] = df_articles['title'].apply(standardize_text)"
   ]
  },
  {
   "cell_type": "markdown",
   "id": "eb722839",
   "metadata": {},
   "source": [
    "# 2. Additiona Cleaning\n",
    "\n",
    "* Dates\n",
    "\n",
    "\n",
    "* Publishers --> group\n",
    "\n"
   ]
  },
  {
   "cell_type": "code",
   "execution_count": null,
   "id": "5c980b3a",
   "metadata": {},
   "outputs": [],
   "source": []
  },
  {
   "cell_type": "code",
   "execution_count": null,
   "id": "3103b085",
   "metadata": {},
   "outputs": [],
   "source": []
  },
  {
   "cell_type": "markdown",
   "id": "c61ee0eb",
   "metadata": {},
   "source": [
    "# 2. Filters\n",
    "\n",
    "\n",
    "* number of words\n",
    "\n",
    "* title is\n",
    "\n",
    "* title contains\n",
    "\n"
   ]
  },
  {
   "cell_type": "code",
   "execution_count": null,
   "id": "c805a67d",
   "metadata": {},
   "outputs": [],
   "source": []
  },
  {
   "cell_type": "code",
   "execution_count": null,
   "id": "411a20d5",
   "metadata": {},
   "outputs": [],
   "source": []
  },
  {
   "cell_type": "code",
   "execution_count": null,
   "id": "7c919df2",
   "metadata": {},
   "outputs": [],
   "source": []
  },
  {
   "cell_type": "markdown",
   "id": "2e3157ab",
   "metadata": {},
   "source": [
    "# 3. Deduplication\n",
    "\n",
    "* Standard\n",
    "\n",
    "* Near duplicate"
   ]
  },
  {
   "cell_type": "code",
   "execution_count": null,
   "id": "bf7fd63a",
   "metadata": {},
   "outputs": [],
   "source": []
  },
  {
   "cell_type": "code",
   "execution_count": null,
   "id": "6b30259a",
   "metadata": {},
   "outputs": [],
   "source": []
  },
  {
   "cell_type": "markdown",
   "id": "a259fbc0",
   "metadata": {},
   "source": [
    "# 4. Seperate dataset"
   ]
  },
  {
   "cell_type": "code",
   "execution_count": null,
   "id": "48a31bd4",
   "metadata": {},
   "outputs": [],
   "source": []
  }
 ],
 "metadata": {
  "kernelspec": {
   "display_name": "Python 3 (ipykernel)",
   "language": "python",
   "name": "python3"
  },
  "language_info": {
   "codemirror_mode": {
    "name": "ipython",
    "version": 3
   },
   "file_extension": ".py",
   "mimetype": "text/x-python",
   "name": "python",
   "nbconvert_exporter": "python",
   "pygments_lexer": "ipython3",
   "version": "3.9.21"
  }
 },
 "nbformat": 4,
 "nbformat_minor": 5
}
