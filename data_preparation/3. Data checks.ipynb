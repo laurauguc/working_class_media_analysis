{
 "cells": [
  {
   "cell_type": "code",
   "execution_count": 1,
   "id": "deda7e24",
   "metadata": {},
   "outputs": [],
   "source": [
    "import os\n",
    "import pandas as pd\n",
    "\n",
    "# Set the folder path\n",
    "folder_path = '../data/processed/parsed_files/'\n",
    "\n",
    "# List all pickle files in the folder\n",
    "pickle_files = [f for f in os.listdir(folder_path) if f.endswith('.pkl')]\n",
    "\n",
    "# Load and collect all DataFrames\n",
    "df_articles = pd.DataFrame()\n",
    "for file in pickle_files:\n",
    "    file_path = os.path.join(folder_path, file)\n",
    "    try:\n",
    "        df = pd.read_pickle(file_path)\n",
    "        df_articles = pd.concat([df_articles, df])\n",
    "    except Exception as e:\n",
    "        print(f\"Failed to load {file}: {e}\")\n",
    "\n",
    "\n",
    "# Optionally save the result\n",
    "# combined_df.to_pickle('/path/to/save/combined.pkl')\n"
   ]
  },
  {
   "cell_type": "code",
   "execution_count": 2,
   "id": "a331428a",
   "metadata": {},
   "outputs": [
    {
     "data": {
      "text/plain": [
       "(41861, 8)"
      ]
     },
     "execution_count": 2,
     "metadata": {},
     "output_type": "execute_result"
    }
   ],
   "source": [
    "df_articles.shape"
   ]
  },
  {
   "cell_type": "code",
   "execution_count": 4,
   "id": "f2705aeb",
   "metadata": {},
   "outputs": [
    {
     "name": "stdout",
     "output_type": "stream",
     "text": [
      "Number of files: 84\n"
     ]
    }
   ],
   "source": [
    "print(f\"Number of files: {len(set(df_articles[\"source_file\"]))}\")"
   ]
  },
  {
   "cell_type": "markdown",
   "id": "35a35780",
   "metadata": {},
   "source": [
    "## 1. Repeated Titles"
   ]
  },
  {
   "cell_type": "code",
   "execution_count": 13,
   "id": "26aea7fc",
   "metadata": {},
   "outputs": [
    {
     "data": {
      "text/plain": [
       "{'No Headline In Original': np.int64(101), 'Movie guide': np.int64(101)}"
      ]
     },
     "execution_count": 13,
     "metadata": {},
     "output_type": "execute_result"
    }
   ],
   "source": [
    "anomalous_titles = {key:value for key, value in dict(df_articles['title'].value_counts()).items() if value > 100}\n",
    "anomalous_titles"
   ]
  },
  {
   "cell_type": "code",
   "execution_count": 14,
   "id": "b971a68e",
   "metadata": {},
   "outputs": [
    {
     "data": {
      "text/html": [
       "<div>\n",
       "<style scoped>\n",
       "    .dataframe tbody tr th:only-of-type {\n",
       "        vertical-align: middle;\n",
       "    }\n",
       "\n",
       "    .dataframe tbody tr th {\n",
       "        vertical-align: top;\n",
       "    }\n",
       "\n",
       "    .dataframe thead th {\n",
       "        text-align: right;\n",
       "    }\n",
       "</style>\n",
       "<table border=\"1\" class=\"dataframe\">\n",
       "  <thead>\n",
       "    <tr style=\"text-align: right;\">\n",
       "      <th></th>\n",
       "      <th>title</th>\n",
       "      <th>publisher</th>\n",
       "      <th>date</th>\n",
       "      <th>section</th>\n",
       "      <th>length</th>\n",
       "      <th>body</th>\n",
       "      <th>correction_appended</th>\n",
       "      <th>source_file</th>\n",
       "    </tr>\n",
       "  </thead>\n",
       "  <tbody>\n",
       "    <tr>\n",
       "      <th>446</th>\n",
       "      <td>No Headline In Original</td>\n",
       "      <td>The New York Times</td>\n",
       "      <td>2024-09-01</td>\n",
       "      <td>Section MB; Column 0; Metropolitan Desk; Pg. 3...</td>\n",
       "      <td>533 words</td>\n",
       "      <td>In the Schools: Dress Codes, Self-Expression a...</td>\n",
       "      <td>False</td>\n",
       "      <td>55.DOCX</td>\n",
       "    </tr>\n",
       "    <tr>\n",
       "      <th>457</th>\n",
       "      <td>No Headline In Original</td>\n",
       "      <td>The New York Times</td>\n",
       "      <td>2022-01-30</td>\n",
       "      <td>Section MB; Column 0; Metropolitan Desk; Pg. 3...</td>\n",
       "      <td>774 words</td>\n",
       "      <td>How Fire Defined the Bronx, and UsReaders resp...</td>\n",
       "      <td>False</td>\n",
       "      <td>55.DOCX</td>\n",
       "    </tr>\n",
       "    <tr>\n",
       "      <th>460</th>\n",
       "      <td>No Headline In Original</td>\n",
       "      <td>The New York Times</td>\n",
       "      <td>2021-07-11</td>\n",
       "      <td>Section MB; Column 0; Metropolitan Desk; Pg. 3...</td>\n",
       "      <td>686 words</td>\n",
       "      <td>When New York Was Ours AloneReaders responded ...</td>\n",
       "      <td>False</td>\n",
       "      <td>55.DOCX</td>\n",
       "    </tr>\n",
       "    <tr>\n",
       "      <th>263</th>\n",
       "      <td>No Headline In Original</td>\n",
       "      <td>The New York Times</td>\n",
       "      <td>2009-10-22</td>\n",
       "      <td>Section A; Column 0; Metropolitan Desk; Pg. 30...</td>\n",
       "      <td>514 words</td>\n",
       "      <td>TAKING  QUESTIONS  This week on the blog, Josh...</td>\n",
       "      <td>False</td>\n",
       "      <td>56.361.DOCX</td>\n",
       "    </tr>\n",
       "    <tr>\n",
       "      <th>264</th>\n",
       "      <td>No Headline In Original</td>\n",
       "      <td>The New York Times</td>\n",
       "      <td>2019-05-19</td>\n",
       "      <td>Section MB; Column 0; Metropolitan Desk; Pg. 3...</td>\n",
       "      <td>686 words</td>\n",
       "      <td>No End to the Abuse of Evelyn NesbitThe magazi...</td>\n",
       "      <td>False</td>\n",
       "      <td>56.361.DOCX</td>\n",
       "    </tr>\n",
       "    <tr>\n",
       "      <th>...</th>\n",
       "      <td>...</td>\n",
       "      <td>...</td>\n",
       "      <td>...</td>\n",
       "      <td>...</td>\n",
       "      <td>...</td>\n",
       "      <td>...</td>\n",
       "      <td>...</td>\n",
       "      <td>...</td>\n",
       "    </tr>\n",
       "    <tr>\n",
       "      <th>356</th>\n",
       "      <td>No Headline In Original</td>\n",
       "      <td>The New York Times</td>\n",
       "      <td>2011-04-03</td>\n",
       "      <td>Section AR; Column 0; Arts and Leisure Desk; P...</td>\n",
       "      <td>142 words</td>\n",
       "      <td>Here's a sampling of readers' responses to Dan...</td>\n",
       "      <td>False</td>\n",
       "      <td>56.361.DOCX</td>\n",
       "    </tr>\n",
       "    <tr>\n",
       "      <th>357</th>\n",
       "      <td>No Headline In Original</td>\n",
       "      <td>The New York Times</td>\n",
       "      <td>1996-01-11</td>\n",
       "      <td>Section A;; Section A; Page 2; Column 6; Metro...</td>\n",
       "      <td>46 words</td>\n",
       "      <td>\"It's not the process that Senator Helms objec...</td>\n",
       "      <td>False</td>\n",
       "      <td>56.361.DOCX</td>\n",
       "    </tr>\n",
       "    <tr>\n",
       "      <th>358</th>\n",
       "      <td>No Headline In Original</td>\n",
       "      <td>The New York Times</td>\n",
       "      <td>2008-06-22</td>\n",
       "      <td>Section SP; Column 0; Sports Desk; Pg. 10; OUT...</td>\n",
       "      <td>161 words</td>\n",
       "      <td>The five most e-mailed articles from nytimes.c...</td>\n",
       "      <td>False</td>\n",
       "      <td>56.361.DOCX</td>\n",
       "    </tr>\n",
       "    <tr>\n",
       "      <th>359</th>\n",
       "      <td>No Headline In Original</td>\n",
       "      <td>The New York Times</td>\n",
       "      <td>1986-06-11</td>\n",
       "      <td>Section B; Page 1, Column 6; Metropolitan Desk...</td>\n",
       "      <td>40 words</td>\n",
       "      <td>''The Celtics mean everything to Boston. They ...</td>\n",
       "      <td>False</td>\n",
       "      <td>56.361.DOCX</td>\n",
       "    </tr>\n",
       "    <tr>\n",
       "      <th>360</th>\n",
       "      <td>No Headline In Original</td>\n",
       "      <td>The New York Times</td>\n",
       "      <td>1980-12-06</td>\n",
       "      <td>Section 1; Page 4, Column 5; Foreign Desk; text</td>\n",
       "      <td>171 words</td>\n",
       "      <td>Following are excerpts from an English-languag...</td>\n",
       "      <td>False</td>\n",
       "      <td>56.361.DOCX</td>\n",
       "    </tr>\n",
       "  </tbody>\n",
       "</table>\n",
       "<p>101 rows × 8 columns</p>\n",
       "</div>"
      ],
      "text/plain": [
       "                       title           publisher        date  \\\n",
       "446  No Headline In Original  The New York Times  2024-09-01   \n",
       "457  No Headline In Original  The New York Times  2022-01-30   \n",
       "460  No Headline In Original  The New York Times  2021-07-11   \n",
       "263  No Headline In Original  The New York Times  2009-10-22   \n",
       "264  No Headline In Original  The New York Times  2019-05-19   \n",
       "..                       ...                 ...         ...   \n",
       "356  No Headline In Original  The New York Times  2011-04-03   \n",
       "357  No Headline In Original  The New York Times  1996-01-11   \n",
       "358  No Headline In Original  The New York Times  2008-06-22   \n",
       "359  No Headline In Original  The New York Times  1986-06-11   \n",
       "360  No Headline In Original  The New York Times  1980-12-06   \n",
       "\n",
       "                                               section     length  \\\n",
       "446  Section MB; Column 0; Metropolitan Desk; Pg. 3...  533 words   \n",
       "457  Section MB; Column 0; Metropolitan Desk; Pg. 3...  774 words   \n",
       "460  Section MB; Column 0; Metropolitan Desk; Pg. 3...  686 words   \n",
       "263  Section A; Column 0; Metropolitan Desk; Pg. 30...  514 words   \n",
       "264  Section MB; Column 0; Metropolitan Desk; Pg. 3...  686 words   \n",
       "..                                                 ...        ...   \n",
       "356  Section AR; Column 0; Arts and Leisure Desk; P...  142 words   \n",
       "357  Section A;; Section A; Page 2; Column 6; Metro...   46 words   \n",
       "358  Section SP; Column 0; Sports Desk; Pg. 10; OUT...  161 words   \n",
       "359  Section B; Page 1, Column 6; Metropolitan Desk...   40 words   \n",
       "360    Section 1; Page 4, Column 5; Foreign Desk; text  171 words   \n",
       "\n",
       "                                                  body  correction_appended  \\\n",
       "446  In the Schools: Dress Codes, Self-Expression a...                False   \n",
       "457  How Fire Defined the Bronx, and UsReaders resp...                False   \n",
       "460  When New York Was Ours AloneReaders responded ...                False   \n",
       "263  TAKING  QUESTIONS  This week on the blog, Josh...                False   \n",
       "264  No End to the Abuse of Evelyn NesbitThe magazi...                False   \n",
       "..                                                 ...                  ...   \n",
       "356  Here's a sampling of readers' responses to Dan...                False   \n",
       "357  \"It's not the process that Senator Helms objec...                False   \n",
       "358  The five most e-mailed articles from nytimes.c...                False   \n",
       "359  ''The Celtics mean everything to Boston. They ...                False   \n",
       "360  Following are excerpts from an English-languag...                False   \n",
       "\n",
       "     source_file  \n",
       "446      55.DOCX  \n",
       "457      55.DOCX  \n",
       "460      55.DOCX  \n",
       "263  56.361.DOCX  \n",
       "264  56.361.DOCX  \n",
       "..           ...  \n",
       "356  56.361.DOCX  \n",
       "357  56.361.DOCX  \n",
       "358  56.361.DOCX  \n",
       "359  56.361.DOCX  \n",
       "360  56.361.DOCX  \n",
       "\n",
       "[101 rows x 8 columns]"
      ]
     },
     "execution_count": 14,
     "metadata": {},
     "output_type": "execute_result"
    }
   ],
   "source": [
    "df_no_headline = df_articles.loc[df_articles[\"title\"] == \"No Headline In Original\"]\n",
    "df_no_headline"
   ]
  },
  {
   "cell_type": "code",
   "execution_count": 15,
   "id": "75eff99f",
   "metadata": {},
   "outputs": [
    {
     "name": "stdout",
     "output_type": "stream",
     "text": [
      "In the Schools: Dress Codes, Self-Expression and InequityReaders responded by letter and at nytimes.com to Ginia Bellafante's Big City column on Aug. 18 about student dress codes and whether school uniforms should be required. Comments were edited.   I grew up in a working-class family, only ever had thrift store clothes, and was a social pariah because of that. Now my kid attends a New York City charter school where uniforms are required. I love it. The uniform completely removes any sense of ever having the ''wrong'' clothes, which I can attest from personal experience means that a major distraction is just completely removed from the day's equation. There's still some room for personal expression. There are dress, skirt, pants and shorts options, and two possible colors of shirts.  Emily St. John Mandel, New York  Every new school year, we grapple with how to make sure that our students are mindful, respectful and safe while maintaining independence and self-expression. This year brings with it not only new fashion ins and outs, but a whole new language for all the various gender, class and ethnic identifications so that the children do not feel judged, slighted or, worst of all, shamed. It also brings adult debate as to what the protocols for mindful behavior in the schools, on the playground and within society should be to ensure civility, respect and kindness. While reading this article, I was further reminded of another piece on the subject: ''What honor is due to parents; what garments or shoes are to be worn; the mode of dressing the hair; deportment and manners in general?'' These words were written in ''The Republic'' by Plato in 380 B.C. We were also given by a quotation from Ecclesiastes: ''The thing that hath been, it is that which shall be; and that which is done: and there is no new thing under the sun.'' Congratulations for continuing this age-old conversation.  Gailanne Grosso, New York  As an American expat and secondary school teacher who's lived and worked in Australia for some 40 years, I must say I have come to believe that mandatory uniforms are the go. Here, in Oz, near 100 percent of students in both public and private schools wear uniforms, with some range of choice within the codes. It is a cultural given here, unquestioned, and it works! It seems to work in Philly? Ha! I recall teaching in a school in Daytona Beach, Fla., where one of the dress-code rules was ''No swimsuits!''  Walter Provencher, Canberra, Australia  After my first career, in retail, I became a high school history teacher in a very poor district. I told all my students, ''I will never be the fashion police.'' I further explained that there was no way they could shock me. When I retired, after 16 years of teaching, my A.P. World History students had the highest passing rate on the A.P. exam in the district, and well above the national average. The craziest dresser I taught was also one of the brightest people I have ever met. Perhaps brilliance and the desire to step outside the norms are both rooted in the same innate characteristics. Regardless, crazy clothes never interfered with my teaching, not once.  John Taylor, Rancho Palos Verdes, Calif.\n",
      "https://www.nytimes.com/2024/08/22/nyregion/01MetComments.html\n",
      "Graphic PHOTO: Students waiting in line to receive ID cards at Edward Murrow High School in Brooklyn. (PHOTOGRAPH BY ANNA WATTS FOR THE NEW YORK TIMES) This article appeared in print on page MB3.               \n",
      "Load-Date: September 1, 2024\n"
     ]
    }
   ],
   "source": [
    "print(df_no_headline['body'].iloc[0])"
   ]
  },
  {
   "cell_type": "markdown",
   "id": "86e6f0e5",
   "metadata": {},
   "source": [
    "__Questions for team__\n",
    "\n",
    "* \"No Headline In Original\" sometimes appear as the actual title in the raw data. However, the first paragraph in the article's body appear to be the title: take this item in the cleaning steps?\n",
    "\n",
    "* Review other more common titles (appearing more than 20 times)"
   ]
  },
  {
   "cell_type": "markdown",
   "id": "059d7976",
   "metadata": {},
   "source": [
    "## Missing \"working class\" keywords"
   ]
  },
  {
   "cell_type": "code",
   "execution_count": 20,
   "id": "7d4203d9",
   "metadata": {},
   "outputs": [],
   "source": [
    "def clean_body(text):\n",
    "    if isinstance(text, str):\n",
    "        return (text\n",
    "                .replace(\"  \", \" \")\n",
    "                .replace(\" -\", \"-\")\n",
    "                .replace(\"- \", \"-\")\n",
    "                .replace(\"-\\xad\", \"-\")\n",
    "                .replace(\"‑\", \"-\")\n",
    "                .replace(\"-/\", \"-\")\n",
    "                .replace(\"-\\n\", \"-\"))\n",
    "    return text  # Leave non-strings (e.g., NaN) unchanged\n",
    "\n",
    "df_articles['body_cleaned'] = df_articles['body'].apply(clean_body)"
   ]
  },
  {
   "cell_type": "code",
   "execution_count": 32,
   "id": "82f51b64",
   "metadata": {},
   "outputs": [
    {
     "data": {
      "text/html": [
       "<div>\n",
       "<style scoped>\n",
       "    .dataframe tbody tr th:only-of-type {\n",
       "        vertical-align: middle;\n",
       "    }\n",
       "\n",
       "    .dataframe tbody tr th {\n",
       "        vertical-align: top;\n",
       "    }\n",
       "\n",
       "    .dataframe thead th {\n",
       "        text-align: right;\n",
       "    }\n",
       "</style>\n",
       "<table border=\"1\" class=\"dataframe\">\n",
       "  <thead>\n",
       "    <tr style=\"text-align: right;\">\n",
       "      <th></th>\n",
       "      <th>title</th>\n",
       "      <th>publisher</th>\n",
       "      <th>date</th>\n",
       "      <th>section</th>\n",
       "      <th>length</th>\n",
       "      <th>body</th>\n",
       "      <th>correction_appended</th>\n",
       "      <th>source_file</th>\n",
       "      <th>body_cleaned</th>\n",
       "    </tr>\n",
       "  </thead>\n",
       "  <tbody>\n",
       "    <tr>\n",
       "      <th>423</th>\n",
       "      <td>Desperate Years: To Be Young, British and Lack...</td>\n",
       "      <td>The New York Times</td>\n",
       "      <td>2013-12-19</td>\n",
       "      <td>MOVIES</td>\n",
       "      <td>616 words</td>\n",
       "      <td>For today’s socially conscious British filmmak...</td>\n",
       "      <td>False</td>\n",
       "      <td>23.DOCX</td>\n",
       "      <td>For today’s socially conscious British filmmak...</td>\n",
       "    </tr>\n",
       "    <tr>\n",
       "      <th>466</th>\n",
       "      <td>The G.O.P. Can Avoid A Disaster</td>\n",
       "      <td>The New York Times</td>\n",
       "      <td>2018-04-05</td>\n",
       "      <td>Section A; Column 0; Editorial Desk; Pg. 27; O...</td>\n",
       "      <td>1204 words</td>\n",
       "      <td>With Democrats winning in normally deep red pl...</td>\n",
       "      <td>False</td>\n",
       "      <td>23.DOCX</td>\n",
       "      <td>With Democrats winning in normally deep red pl...</td>\n",
       "    </tr>\n",
       "  </tbody>\n",
       "</table>\n",
       "</div>"
      ],
      "text/plain": [
       "                                                 title            publisher  \\\n",
       "423  Desperate Years: To Be Young, British and Lack...  The New York Times    \n",
       "466                    The G.O.P. Can Avoid A Disaster   The New York Times   \n",
       "\n",
       "           date                                            section  \\\n",
       "423  2013-12-19                                             MOVIES   \n",
       "466  2018-04-05  Section A; Column 0; Editorial Desk; Pg. 27; O...   \n",
       "\n",
       "         length                                               body  \\\n",
       "423   616 words  For today’s socially conscious British filmmak...   \n",
       "466  1204 words  With Democrats winning in normally deep red pl...   \n",
       "\n",
       "     correction_appended source_file  \\\n",
       "423                False     23.DOCX   \n",
       "466                False     23.DOCX   \n",
       "\n",
       "                                          body_cleaned  \n",
       "423  For today’s socially conscious British filmmak...  \n",
       "466  With Democrats winning in normally deep red pl...  "
      ]
     },
     "execution_count": 32,
     "metadata": {},
     "output_type": "execute_result"
    }
   ],
   "source": [
    "df_missing_working_class = df_articles[[('working-class' not in str(i).lower()) and ('working class' not in str(i).lower()) and ('(working) class' not in str(i).lower()) for i in df_articles['body_cleaned']]]\n",
    "df_missing_working_class = df_missing_working_class[[('working-class' not in str(i).lower()) and ('working class' not in str(i).lower()) for i in df_missing_working_class['title']]]\n",
    "\n",
    "df_missing_working_class.head(2)"
   ]
  },
  {
   "cell_type": "code",
   "execution_count": 33,
   "id": "11652dc7",
   "metadata": {},
   "outputs": [
    {
     "name": "stdout",
     "output_type": "stream",
     "text": [
      "Data issue: 0.62% of articles don't include the working class keyworks.\n"
     ]
    }
   ],
   "source": [
    "# percetnage time missing\n",
    "fraction_missing = (df_missing_working_class.shape[0]) / df_articles.shape[0]\n",
    "if fraction_missing > 0:\n",
    "    print(\"Data issue: {}% of articles don't include the working class keyworks.\".format(round(fraction_missing*100,2)))\n",
    "else:\n",
    "    print(\"Issue resolved.\")"
   ]
  },
  {
   "cell_type": "code",
   "execution_count": 50,
   "id": "fa751939",
   "metadata": {},
   "outputs": [
    {
     "data": {
      "text/plain": [
       "'The G.O.P. Can Avoid A Disaster'"
      ]
     },
     "execution_count": 50,
     "metadata": {},
     "output_type": "execute_result"
    }
   ],
   "source": [
    "df_missing_working_class[\"title\"].iloc[1]"
   ]
  },
  {
   "cell_type": "code",
   "execution_count": 51,
   "id": "04d7dda1",
   "metadata": {},
   "outputs": [
    {
     "name": "stdout",
     "output_type": "stream",
     "text": [
      "With Democrats winning in normally deep red places like Alabama and Pennsylvania's 18th Congressional District, it looks like a blue wave is swelling for the midterm elections.There's still time for Republicans to change that, but first they must figure out how to mount an effective defense. To do that, they need to focus on a largely overlooked group of voters: Donald Trump voters who did not like him.  According to the 2016 exit polls, 18 percent of Americans did not like either Mr. Trump or Hillary Clinton. Mr. Trump owes his victory to the fact that he beat her among this group by a 17-point margin, 47 percent to 30 percent (the remainder voted for a third party or write-in candidate). Multiplying Mr. Trump's percentage among this group by the group's share of the electorate yields a startling fact: Nearly one-fifth of all Trump voters didn't like him. This is a shockingly high share; it goes a long way toward explaining why places that voted for Mr. Trump in 2016 could be voting against Republicans in 2018. The president's job-approval rating remains historically weak, in the low 40s, only a few points higher than his humble favorability rating was on Election Day. Both exit polls in 2017 and analysis of recent generic congressional ballot polls--which indicate a Democratic lead--show that willingness to vote Republican or Democratic is highly correlated with one's opinion of President Trump. That can mean only one of two things: Either people who voted for Mr. Trump without liking him are so discouraged they aren't even answering polls (unlikely) or millions of Trump voters are intending to vote for Democrats in the fall. That probably shocks political pros from both sides of the aisle. Mr. Trump's first year in office, while tumultuous, followed a predictable script. He signed the Republicans' signature agenda item, a giant tax-cut bill. He pursued a traditional business-friendly Republican program for deregulation and promoted conservative priorities like stricter immigration policy. He appointed the conservative judge Neil Gorsuch to the Supreme Court, regularly attacked the news media and provoked liberals with culture-war tweets (like berating N.F.L. players for kneeling during the national anthem). This combination of stoking racial resentment and promoting Republican policy was supposed to be his ticket to victory. Yet his job-approval ratings continued to fall during the year, hitting a nadir about the time his endorsed Roy Moore, who lost in Alabama's special Senate election. It's not a surprise, though, if you look at the characteristics and beliefs of these ''reluctant Trump'' voters. According to the George Washington University Battleground Polls from September and October 2016, which also tracked voters who disliked both candidates, these people were largely self-described independents and ticket splitters. They leaned Republican, but they were not hardened partisans. Instead, they were willing to break with their preferred party when personalities or circumstances permitted. These polls also make crystal clear how much Mr. Trump bothered them. In both sets of the battleground polls, these voters strongly thought Republicans were best able to handle taxes, jobs, the economy and foreign affairs. Yet when they were asked the identical questions about which of the two candidates they trusted more, they backed Mrs. Clinton or rated the two evenly. They also strongly thought Mr. Trump did not have the temperament for the job, nor was he honest and trustworthy. Crucially, these voters made up their minds very late in the race. In September, 68 percent thought they would vote for a third-party candidate or were undecided. This changed little by mid-October. In this poll, taken during the height of the controversy over the ''Access Hollywood'' tape, 54 percent still intended to vote third party or were undecided. This group didn't break for Mr. Trump until the very end of the race, when they returned to their party preferences to reluctantly back the Republican over the Democrat. Republicans who want to reverse the special election trends of 2017-18 must incorporate these findings into their messaging and campaigns. Simply encouraging partisans to vote won't be enough: These swing voters still don't like Mr. Trump, and they don't respond to simple, partisan appeals. Instead, Republicans need to focus on the voters' choice in November. Their midterm votes will not be a consequence-free way to express displeasure with the White House; their vote will empower Democrats to do the very things these voters don't want them to do. This also requires the right use of imagery and pictures for television ads and staged events. That means knowing exactly who these voters are: They are disproportionally employed, married men with children at home. They are also mainly college educated and are the likeliest group to call themselves ''upper class.'' These are upscale suburban dads, not suburban moms. These men see some things in Mr. Trump that they can respect. The George Washington Battleground Polls found the men thought Mr. Trump was a strong leader and overwhelmingly thought he said what he believed. Reducing the infighting and lack of coordination between Congress and the president is also a must. When asked about the most important challenge facing America, they cited many common priorities: jobs, the economy and so forth. They also mentioned one unusual item: dysfunction in government. Every time it looks like the president, Congress or both can't handle their jobs, it drives home the message that Republicans can't do what many of these voters want most: make government work. Making government work may also require the party to go outside its ideological comfort zone, especially on issues like the president's tariffs. Most Republican legislators and intellectuals hate them, but it turns out that the party's voters like them. A March poll for Politico found that 65 percent of Republicans backed the president's tariffs. Strikingly, a Monmouth University poll taken just before the Pennsylvania special election found that 43 percent of that district's voters thought the tariffs would help the Pittsburgh-area economy. Seventy-five percent of Republicans and 43 percent of independents thought tariffs would help. Among voters backing the Republican Rick Saccone, tariffs were favored by a whopping 81-1 margin; even 10 percent of voters supporting Mr. Saccone's opponent, Conor Lamb, thought tariffs would help the local economy. Parties that hold the White House almost always lose seats in the midterms. The difference between defeat and disaster, however, depends a lot on how swing voters view that party and its record. Republicans still have a chance to avoid disaster if they know those swing voters are largely Republican-leaning dads upset with Mr. Trump and figure out how to appeal to them. Do that and the party might just keep control of the House and important governorships. Fail and a 2010-style blue tsunami may just wash Republicans out to sea. Follow The New York Times Opinion section on Facebook and Twitter (@NYTopinion), and sign up for the Opinion Today newsletter. \n",
      "https://www.nytimes.com/2018/04/04/opinion/trump-republicans-blue-wave.html\n",
      "Load-Date: April 5, 2018\n"
     ]
    }
   ],
   "source": [
    "print(df_missing_working_class[\"body_cleaned\"].iloc[1])"
   ]
  },
  {
   "cell_type": "code",
   "execution_count": 52,
   "id": "042e0aff",
   "metadata": {},
   "outputs": [
    {
     "name": "stdout",
     "output_type": "stream",
     "text": [
      "23.DOCX\n"
     ]
    }
   ],
   "source": [
    "print(df_missing_working_class[\"source_file\"].iloc[1])"
   ]
  },
  {
   "cell_type": "markdown",
   "id": "b2f946de",
   "metadata": {},
   "source": [
    "__Question for team__\n",
    "\n",
    "* See example above with team (23.DOCX): 'The G.O.P. Can Avoid A Disaster'. interesting anomaly: \"working-class\" appears out of body and title. what to do with these cases?"
   ]
  },
  {
   "cell_type": "markdown",
   "id": "c382fe9e",
   "metadata": {},
   "source": [
    "### Check dates"
   ]
  },
  {
   "cell_type": "code",
   "execution_count": 62,
   "id": "8882f05c",
   "metadata": {},
   "outputs": [
    {
     "data": {
      "text/plain": [
       "(195, 9)"
      ]
     },
     "execution_count": 62,
     "metadata": {},
     "output_type": "execute_result"
    }
   ],
   "source": [
    "df_missing_dates = df_articles.loc[df_articles['date'].isna()]\n",
    "df_missing_dates.shape"
   ]
  },
  {
   "cell_type": "code",
   "execution_count": 63,
   "id": "618ec86a",
   "metadata": {},
   "outputs": [
    {
     "data": {
      "text/html": [
       "<div>\n",
       "<style scoped>\n",
       "    .dataframe tbody tr th:only-of-type {\n",
       "        vertical-align: middle;\n",
       "    }\n",
       "\n",
       "    .dataframe tbody tr th {\n",
       "        vertical-align: top;\n",
       "    }\n",
       "\n",
       "    .dataframe thead th {\n",
       "        text-align: right;\n",
       "    }\n",
       "</style>\n",
       "<table border=\"1\" class=\"dataframe\">\n",
       "  <thead>\n",
       "    <tr style=\"text-align: right;\">\n",
       "      <th></th>\n",
       "      <th>title</th>\n",
       "      <th>publisher</th>\n",
       "      <th>date</th>\n",
       "      <th>section</th>\n",
       "      <th>length</th>\n",
       "      <th>body</th>\n",
       "      <th>correction_appended</th>\n",
       "      <th>source_file</th>\n",
       "      <th>body_cleaned</th>\n",
       "    </tr>\n",
       "  </thead>\n",
       "  <tbody>\n",
       "    <tr>\n",
       "      <th>222</th>\n",
       "      <td>The Immigration Bidding War</td>\n",
       "      <td>The New York Times Blogs</td>\n",
       "      <td>NaN</td>\n",
       "      <td>OPINION</td>\n",
       "      <td>1400 words</td>\n",
       "      <td>Hillary Clinton's big immigration speech earli...</td>\n",
       "      <td>False</td>\n",
       "      <td>22.DOCX</td>\n",
       "      <td>Hillary Clinton's big immigration speech earli...</td>\n",
       "    </tr>\n",
       "    <tr>\n",
       "      <th>407</th>\n",
       "      <td>Is Greater Focus on the Superrich Right for Th...</td>\n",
       "      <td>The New York Times Blogs</td>\n",
       "      <td>NaN</td>\n",
       "      <td>OPINION</td>\n",
       "      <td>611 words</td>\n",
       "      <td>To some, it seems counterintuitive to cover th...</td>\n",
       "      <td>False</td>\n",
       "      <td>22.DOCX</td>\n",
       "      <td>To some, it seems counterintuitive to cover th...</td>\n",
       "    </tr>\n",
       "    <tr>\n",
       "      <th>420</th>\n",
       "      <td>Newsroom Diversity: Why We Should Care</td>\n",
       "      <td>The New York Times Blogs</td>\n",
       "      <td>NaN</td>\n",
       "      <td>OPINION</td>\n",
       "      <td>626 words</td>\n",
       "      <td>Does it matter who reports the news and commen...</td>\n",
       "      <td>False</td>\n",
       "      <td>22.DOCX</td>\n",
       "      <td>Does it matter who reports the news and commen...</td>\n",
       "    </tr>\n",
       "    <tr>\n",
       "      <th>438</th>\n",
       "      <td>Clinton Recruits Supporters With 'House Parties'</td>\n",
       "      <td>The New York Times Blogs</td>\n",
       "      <td>NaN</td>\n",
       "      <td>US; politics</td>\n",
       "      <td>569 words</td>\n",
       "      <td>DES MOINES - Fresh off her first major campaig...</td>\n",
       "      <td>False</td>\n",
       "      <td>22.DOCX</td>\n",
       "      <td>DES MOINES-Fresh off her first major campaign ...</td>\n",
       "    </tr>\n",
       "    <tr>\n",
       "      <th>490</th>\n",
       "      <td>Watch Trailers for ABC's New Dramas and Comedies</td>\n",
       "      <td>The New York Times Blogs</td>\n",
       "      <td>NaN</td>\n",
       "      <td>ARTS</td>\n",
       "      <td>622 words</td>\n",
       "      <td>This week, in the annual tradition known as t...</td>\n",
       "      <td>False</td>\n",
       "      <td>22.DOCX</td>\n",
       "      <td>This week, in the annual tradition known as t...</td>\n",
       "    </tr>\n",
       "  </tbody>\n",
       "</table>\n",
       "</div>"
      ],
      "text/plain": [
       "                                                 title  \\\n",
       "222                        The Immigration Bidding War   \n",
       "407  Is Greater Focus on the Superrich Right for Th...   \n",
       "420             Newsroom Diversity: Why We Should Care   \n",
       "438   Clinton Recruits Supporters With 'House Parties'   \n",
       "490   Watch Trailers for ABC's New Dramas and Comedies   \n",
       "\n",
       "                     publisher date       section      length  \\\n",
       "222  The New York Times Blogs   NaN       OPINION  1400 words   \n",
       "407  The New York Times Blogs   NaN       OPINION   611 words   \n",
       "420  The New York Times Blogs   NaN       OPINION   626 words   \n",
       "438  The New York Times Blogs   NaN  US; politics   569 words   \n",
       "490  The New York Times Blogs   NaN          ARTS   622 words   \n",
       "\n",
       "                                                  body  correction_appended  \\\n",
       "222  Hillary Clinton's big immigration speech earli...                False   \n",
       "407  To some, it seems counterintuitive to cover th...                False   \n",
       "420  Does it matter who reports the news and commen...                False   \n",
       "438  DES MOINES - Fresh off her first major campaig...                False   \n",
       "490   This week, in the annual tradition known as t...                False   \n",
       "\n",
       "    source_file                                       body_cleaned  \n",
       "222     22.DOCX  Hillary Clinton's big immigration speech earli...  \n",
       "407     22.DOCX  To some, it seems counterintuitive to cover th...  \n",
       "420     22.DOCX  Does it matter who reports the news and commen...  \n",
       "438     22.DOCX  DES MOINES-Fresh off her first major campaign ...  \n",
       "490     22.DOCX   This week, in the annual tradition known as t...  "
      ]
     },
     "execution_count": 63,
     "metadata": {},
     "output_type": "execute_result"
    }
   ],
   "source": [
    "df_missing_dates.head()"
   ]
  },
  {
   "cell_type": "code",
   "execution_count": 65,
   "id": "0865f286",
   "metadata": {},
   "outputs": [
    {
     "data": {
      "text/plain": [
       "'Is Greater Focus on the Superrich Right for The Times?'"
      ]
     },
     "execution_count": 65,
     "metadata": {},
     "output_type": "execute_result"
    }
   ],
   "source": [
    "df_missing_dates['title'].iloc[1]"
   ]
  },
  {
   "cell_type": "code",
   "execution_count": 67,
   "id": "c03e2ec5",
   "metadata": {},
   "outputs": [
    {
     "data": {
      "text/plain": [
       "publisher\n",
       "The New York Times Blogs          146\n",
       "The New York Times                 41\n",
       "Star Tribune (Minneapolis, MN)      3\n",
       "Dayton Daily News (Ohio)            2\n",
       "February 1, 2007 Thursday           1\n",
       "Chicago Daily Herald                1\n",
       "The New York Times                  1\n",
       "Name: count, dtype: int64"
      ]
     },
     "execution_count": 67,
     "metadata": {},
     "output_type": "execute_result"
    }
   ],
   "source": [
    "df_missing_dates[\"publisher\"].value_counts()"
   ]
  },
  {
   "cell_type": "code",
   "execution_count": 83,
   "id": "c3c83f56",
   "metadata": {},
   "outputs": [
    {
     "data": {
      "text/html": [
       "<div>\n",
       "<style scoped>\n",
       "    .dataframe tbody tr th:only-of-type {\n",
       "        vertical-align: middle;\n",
       "    }\n",
       "\n",
       "    .dataframe tbody tr th {\n",
       "        vertical-align: top;\n",
       "    }\n",
       "\n",
       "    .dataframe thead th {\n",
       "        text-align: right;\n",
       "    }\n",
       "</style>\n",
       "<table border=\"1\" class=\"dataframe\">\n",
       "  <thead>\n",
       "    <tr style=\"text-align: right;\">\n",
       "      <th></th>\n",
       "      <th>title</th>\n",
       "      <th>publisher</th>\n",
       "      <th>date</th>\n",
       "      <th>section</th>\n",
       "      <th>length</th>\n",
       "      <th>body</th>\n",
       "      <th>correction_appended</th>\n",
       "      <th>source_file</th>\n",
       "      <th>body_cleaned</th>\n",
       "    </tr>\n",
       "  </thead>\n",
       "  <tbody>\n",
       "    <tr>\n",
       "      <th>393</th>\n",
       "      <td>Evenly divide, mostly undecided;\\nMost DFL vot...</td>\n",
       "      <td>Star Tribune (Minneapolis, MN)</td>\n",
       "      <td>NaN</td>\n",
       "      <td>NEWS; Minnesota Poll; Pg. 1A</td>\n",
       "      <td>2035 words</td>\n",
       "      <td>DFL voters start off this summer's primary ...</td>\n",
       "      <td>False</td>\n",
       "      <td>Files (500) (30).DOCX</td>\n",
       "      <td>DFL voters start off this summer's primary ...</td>\n",
       "    </tr>\n",
       "    <tr>\n",
       "      <th>290</th>\n",
       "      <td>Cleveland says Riverside buyer was right outfi...</td>\n",
       "      <td>Star Tribune (Minneapolis, MN)</td>\n",
       "      <td>NaN</td>\n",
       "      <td>BUSINESS; On business; Pg. 1D</td>\n",
       "      <td>1224 words</td>\n",
       "      <td>Dave Cleveland, the indefatigable force beh...</td>\n",
       "      <td>False</td>\n",
       "      <td>Files (500) (28).DOCX</td>\n",
       "      <td>Dave Cleveland, the indefatigable force beh...</td>\n",
       "    </tr>\n",
       "    <tr>\n",
       "      <th>323</th>\n",
       "      <td>Kidwell pushing Carlson School toward top 10 i...</td>\n",
       "      <td>Star Tribune (Minneapolis, MN)</td>\n",
       "      <td>NaN</td>\n",
       "      <td>BUSINESS; ON BUSINESS; Pg. 1D</td>\n",
       "      <td>1078 words</td>\n",
       "      <td>Dave Kidwell &amp; Co. had raised nearly $...</td>\n",
       "      <td>False</td>\n",
       "      <td>Files (500) (27).DOCX</td>\n",
       "      <td>Dave Kidwell &amp; Co. had raised nearly $...</td>\n",
       "    </tr>\n",
       "  </tbody>\n",
       "</table>\n",
       "</div>"
      ],
      "text/plain": [
       "                                                 title  \\\n",
       "393  Evenly divide, mostly undecided;\\nMost DFL vot...   \n",
       "290  Cleveland says Riverside buyer was right outfi...   \n",
       "323  Kidwell pushing Carlson School toward top 10 i...   \n",
       "\n",
       "                          publisher date                        section  \\\n",
       "393  Star Tribune (Minneapolis, MN)  NaN   NEWS; Minnesota Poll; Pg. 1A   \n",
       "290  Star Tribune (Minneapolis, MN)  NaN  BUSINESS; On business; Pg. 1D   \n",
       "323  Star Tribune (Minneapolis, MN)  NaN  BUSINESS; ON BUSINESS; Pg. 1D   \n",
       "\n",
       "         length                                               body  \\\n",
       "393  2035 words     DFL voters start off this summer's primary ...   \n",
       "290  1224 words     Dave Cleveland, the indefatigable force beh...   \n",
       "323  1078 words          Dave Kidwell & Co. had raised nearly $...   \n",
       "\n",
       "     correction_appended            source_file  \\\n",
       "393                False  Files (500) (30).DOCX   \n",
       "290                False  Files (500) (28).DOCX   \n",
       "323                False  Files (500) (27).DOCX   \n",
       "\n",
       "                                          body_cleaned  \n",
       "393     DFL voters start off this summer's primary ...  \n",
       "290     Dave Cleveland, the indefatigable force beh...  \n",
       "323          Dave Kidwell & Co. had raised nearly $...  "
      ]
     },
     "execution_count": 83,
     "metadata": {},
     "output_type": "execute_result"
    }
   ],
   "source": [
    "df1 = df_missing_dates.loc[df_missing_dates[\"publisher\"] == \"Star Tribune (Minneapolis, MN)\"]\n",
    "df1"
   ]
  },
  {
   "cell_type": "code",
   "execution_count": 69,
   "id": "a79149c4",
   "metadata": {},
   "outputs": [
    {
     "data": {
      "text/html": [
       "<div>\n",
       "<style scoped>\n",
       "    .dataframe tbody tr th:only-of-type {\n",
       "        vertical-align: middle;\n",
       "    }\n",
       "\n",
       "    .dataframe tbody tr th {\n",
       "        vertical-align: top;\n",
       "    }\n",
       "\n",
       "    .dataframe thead th {\n",
       "        text-align: right;\n",
       "    }\n",
       "</style>\n",
       "<table border=\"1\" class=\"dataframe\">\n",
       "  <thead>\n",
       "    <tr style=\"text-align: right;\">\n",
       "      <th></th>\n",
       "      <th>title</th>\n",
       "      <th>publisher</th>\n",
       "      <th>date</th>\n",
       "      <th>section</th>\n",
       "      <th>length</th>\n",
       "      <th>body</th>\n",
       "      <th>correction_appended</th>\n",
       "      <th>source_file</th>\n",
       "      <th>body_cleaned</th>\n",
       "    </tr>\n",
       "  </thead>\n",
       "  <tbody>\n",
       "    <tr>\n",
       "      <th>169</th>\n",
       "      <td>McMillan's Millions</td>\n",
       "      <td>The New York Times</td>\n",
       "      <td>NaN</td>\n",
       "      <td>Section 6;; Section 6; Page 20; Column 1; Maga...</td>\n",
       "      <td>3387 words</td>\n",
       "      <td>I'VE HAD 1,500 PEOPLE SHOW UP for a reading fo...</td>\n",
       "      <td>False</td>\n",
       "      <td>55.DOCX</td>\n",
       "      <td>I'VE HAD 1,500 PEOPLE SHOW UP for a reading fo...</td>\n",
       "    </tr>\n",
       "  </tbody>\n",
       "</table>\n",
       "</div>"
      ],
      "text/plain": [
       "                   title           publisher date  \\\n",
       "169  McMillan's Millions  The New York Times  NaN   \n",
       "\n",
       "                                               section      length  \\\n",
       "169  Section 6;; Section 6; Page 20; Column 1; Maga...  3387 words   \n",
       "\n",
       "                                                  body  correction_appended  \\\n",
       "169  I'VE HAD 1,500 PEOPLE SHOW UP for a reading fo...                False   \n",
       "\n",
       "    source_file                                       body_cleaned  \n",
       "169     55.DOCX  I'VE HAD 1,500 PEOPLE SHOW UP for a reading fo...  "
      ]
     },
     "execution_count": 69,
     "metadata": {},
     "output_type": "execute_result"
    }
   ],
   "source": [
    "df_missing_dates.loc[df_missing_dates[\"publisher\"] == \"The New York Times\"]"
   ]
  },
  {
   "cell_type": "code",
   "execution_count": 73,
   "id": "98dcbe5f",
   "metadata": {},
   "outputs": [],
   "source": [
    "parsed_dates = pd.to_datetime(df_articles[\"date\"]).dt.date\n",
    "parsed_dates = parsed_dates[~parsed_dates.isna()]"
   ]
  },
  {
   "cell_type": "code",
   "execution_count": 80,
   "id": "782ab649",
   "metadata": {},
   "outputs": [
    {
     "data": {
      "image/png": "[encoded data removed]",
      "text/plain": [
       "<Figure size 1200x500 with 1 Axes>"
      ]
     },
     "metadata": {},
     "output_type": "display_data"
    }
   ],
   "source": [
    "import matplotlib.pyplot as plt\n",
    "from collections import Counter\n",
    "\n",
    "# Group by year\n",
    "years = [d.year for d in parsed_dates]\n",
    "year_counts = Counter(years)\n",
    "\n",
    "# Sort by year\n",
    "sorted_years = sorted(year_counts)\n",
    "frequencies = [year_counts[year] for year in sorted_years]\n",
    "\n",
    "# Plot\n",
    "plt.figure(figsize=(12, 5))\n",
    "plt.bar(sorted_years, frequencies, color='skyblue')\n",
    "plt.xlabel('Year')\n",
    "plt.ylabel('Frequency')\n",
    "plt.title('Number of Dates per Year')\n",
    "plt.xticks(sorted_years, rotation=45)\n",
    "plt.grid(axis='y', linestyle='--', alpha=0.7)\n",
    "plt.tight_layout()\n",
    "plt.show()"
   ]
  },
  {
   "cell_type": "code",
   "execution_count": null,
   "id": "cb56fbe2",
   "metadata": {},
   "outputs": [],
   "source": []
  },
  {
   "cell_type": "markdown",
   "id": "a1290e88",
   "metadata": {},
   "source": [
    "\n",
    "\n",
    "### Other"
   ]
  },
  {
   "cell_type": "code",
   "execution_count": 40,
   "id": "7e88a0b4",
   "metadata": {},
   "outputs": [
    {
     "data": {
      "text/plain": [
       "{' Philadelphia Inquirer',\n",
       " ' The New York Times',\n",
       " ' The Philadelphia Inquirer',\n",
       " 'Chicago Daily Herald',\n",
       " 'Dayton Daily News (Ohio)',\n",
       " 'February 1, 2007 Thursday',\n",
       " 'Pittsburgh Post-Gazette',\n",
       " 'Pittsburgh Post-Gazette (Pennsylvania)',\n",
       " 'Star Tribune',\n",
       " 'Star Tribune (Minneapolis, MN)',\n",
       " 'The New York Times',\n",
       " 'The New York Times ',\n",
       " 'The New York Times Blogs ',\n",
       " 'The New York Times\\xa0',\n",
       " 'The Philadelphia Inquirer',\n",
       " 'USA TODAY',\n",
       " 'USA Today'}"
      ]
     },
     "execution_count": 40,
     "metadata": {},
     "output_type": "execute_result"
    }
   ],
   "source": [
    "set(df_articles[\"publisher\"])"
   ]
  },
  {
   "cell_type": "code",
   "execution_count": 86,
   "id": "381efc61",
   "metadata": {},
   "outputs": [
    {
     "data": {
      "text/plain": [
       "correction_appended\n",
       "False    41641\n",
       "True       220\n",
       "Name: count, dtype: int64"
      ]
     },
     "execution_count": 86,
     "metadata": {},
     "output_type": "execute_result"
    }
   ],
   "source": [
    "df_articles[\"correction_appended\"].value_counts()"
   ]
  },
  {
   "cell_type": "code",
   "execution_count": null,
   "id": "6710d787",
   "metadata": {},
   "outputs": [],
   "source": []
  }
 ],
 "metadata": {
  "kernelspec": {
   "display_name": "Python 3.12",
   "language": "python",
   "name": "python3.12"
  },
  "language_info": {
   "codemirror_mode": {
    "name": "ipython",
    "version": 3
   },
   "file_extension": ".py",
   "mimetype": "text/x-python",
   "name": "python",
   "nbconvert_exporter": "python",
   "pygments_lexer": "ipython3",
   "version": "3.12.3"
  }
 },
 "nbformat": 4,
 "nbformat_minor": 5
}
